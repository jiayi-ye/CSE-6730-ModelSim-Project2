{
 "cells": [
  {
   "cell_type": "markdown",
   "metadata": {},
   "source": [
    "### Background dist \n",
    "\n",
    "NOTE: This notebook must be placed in the `NGSIM-Data` folder which contains the `trajectories.csv` file."
   ]
  },
  {
   "cell_type": "code",
   "execution_count": 1,
   "metadata": {},
   "outputs": [],
   "source": [
    "import pandas as pd\n",
    "import numpy as np"
   ]
  },
  {
   "cell_type": "code",
   "execution_count": 2,
   "metadata": {},
   "outputs": [],
   "source": [
    "df = pd.read_csv(\"NGSIM-Data/data.csv\")"
   ]
  },
  {
   "cell_type": "code",
   "execution_count": 3,
   "metadata": {},
   "outputs": [
    {
     "data": {
      "text/plain": [
       "(457997, 24)"
      ]
     },
     "execution_count": 3,
     "metadata": {},
     "output_type": "execute_result"
    }
   ],
   "source": [
    "df.shape"
   ]
  },
  {
   "cell_type": "code",
   "execution_count": 4,
   "metadata": {},
   "outputs": [],
   "source": [
    "df = df[df[\"Direction\"] == 4]"
   ]
  },
  {
   "cell_type": "code",
   "execution_count": null,
   "metadata": {},
   "outputs": [],
   "source": [
    "#df.shape"
   ]
  },
  {
   "cell_type": "code",
   "execution_count": 5,
   "metadata": {},
   "outputs": [],
   "source": [
    "# filter out the cars entered from 114,113,215 on section 5\n",
    "# df_south_start_14th = df[((df[\"Org_Zone\"] == 114) | (df[\"Org_Zone\"] == 113) | (df[\"Org_Zone\"] == 215))& (df[\"Section\"] == 5)]\n",
    "\n",
    "# filter out the cars started on section 5\n",
    "df_south_start_14th = df[df[\"Section\"] == 5]"
   ]
  },
  {
   "cell_type": "code",
   "execution_count": 6,
   "metadata": {},
   "outputs": [
    {
     "data": {
      "text/plain": [
       "(21192, 24)"
      ]
     },
     "execution_count": 6,
     "metadata": {},
     "output_type": "execute_result"
    }
   ],
   "source": [
    "df_south_start_14th.shape"
   ]
  },
  {
   "cell_type": "code",
   "execution_count": 7,
   "metadata": {},
   "outputs": [
    {
     "data": {
      "text/html": [
       "<div>\n",
       "<style scoped>\n",
       "    .dataframe tbody tr th:only-of-type {\n",
       "        vertical-align: middle;\n",
       "    }\n",
       "\n",
       "    .dataframe tbody tr th {\n",
       "        vertical-align: top;\n",
       "    }\n",
       "\n",
       "    .dataframe thead th {\n",
       "        text-align: right;\n",
       "    }\n",
       "</style>\n",
       "<table border=\"1\" class=\"dataframe\">\n",
       "  <thead>\n",
       "    <tr style=\"text-align: right;\">\n",
       "      <th></th>\n",
       "      <th>Vehicle_ID</th>\n",
       "      <th>Frame_ID</th>\n",
       "      <th>Tot_Frames</th>\n",
       "      <th>Epoch_ms</th>\n",
       "      <th>Local_X</th>\n",
       "      <th>Local_Y</th>\n",
       "      <th>Global_X</th>\n",
       "      <th>Global_Y</th>\n",
       "      <th>Veh_Len</th>\n",
       "      <th>Veh_Wid</th>\n",
       "      <th>...</th>\n",
       "      <th>Org_Zone</th>\n",
       "      <th>Dest_Zone</th>\n",
       "      <th>Intersection</th>\n",
       "      <th>Section</th>\n",
       "      <th>Direction</th>\n",
       "      <th>Movement</th>\n",
       "      <th>Preceding_Veh</th>\n",
       "      <th>Following_Veh</th>\n",
       "      <th>Spacing</th>\n",
       "      <th>Headway</th>\n",
       "    </tr>\n",
       "  </thead>\n",
       "  <tbody>\n",
       "    <tr>\n",
       "      <th>8686</th>\n",
       "      <td>29</td>\n",
       "      <td>156</td>\n",
       "      <td>1144</td>\n",
       "      <td>1163045900</td>\n",
       "      <td>0.623</td>\n",
       "      <td>1936.173</td>\n",
       "      <td>2230810.364</td>\n",
       "      <td>1377396.167</td>\n",
       "      <td>3.5</td>\n",
       "      <td>6.5</td>\n",
       "      <td>...</td>\n",
       "      <td>114</td>\n",
       "      <td>201</td>\n",
       "      <td>0</td>\n",
       "      <td>5</td>\n",
       "      <td>4</td>\n",
       "      <td>1</td>\n",
       "      <td>0</td>\n",
       "      <td>13</td>\n",
       "      <td>0.0</td>\n",
       "      <td>0.0</td>\n",
       "    </tr>\n",
       "    <tr>\n",
       "      <th>8687</th>\n",
       "      <td>29</td>\n",
       "      <td>157</td>\n",
       "      <td>1144</td>\n",
       "      <td>1163046000</td>\n",
       "      <td>0.249</td>\n",
       "      <td>1933.383</td>\n",
       "      <td>2230810.381</td>\n",
       "      <td>1377393.352</td>\n",
       "      <td>3.5</td>\n",
       "      <td>6.5</td>\n",
       "      <td>...</td>\n",
       "      <td>114</td>\n",
       "      <td>201</td>\n",
       "      <td>0</td>\n",
       "      <td>5</td>\n",
       "      <td>4</td>\n",
       "      <td>1</td>\n",
       "      <td>0</td>\n",
       "      <td>13</td>\n",
       "      <td>0.0</td>\n",
       "      <td>0.0</td>\n",
       "    </tr>\n",
       "    <tr>\n",
       "      <th>8688</th>\n",
       "      <td>29</td>\n",
       "      <td>158</td>\n",
       "      <td>1144</td>\n",
       "      <td>1163046100</td>\n",
       "      <td>-0.112</td>\n",
       "      <td>1930.590</td>\n",
       "      <td>2230810.398</td>\n",
       "      <td>1377390.538</td>\n",
       "      <td>3.5</td>\n",
       "      <td>6.5</td>\n",
       "      <td>...</td>\n",
       "      <td>114</td>\n",
       "      <td>201</td>\n",
       "      <td>0</td>\n",
       "      <td>5</td>\n",
       "      <td>4</td>\n",
       "      <td>1</td>\n",
       "      <td>0</td>\n",
       "      <td>13</td>\n",
       "      <td>0.0</td>\n",
       "      <td>0.0</td>\n",
       "    </tr>\n",
       "    <tr>\n",
       "      <th>8689</th>\n",
       "      <td>29</td>\n",
       "      <td>159</td>\n",
       "      <td>1144</td>\n",
       "      <td>1163046200</td>\n",
       "      <td>-0.395</td>\n",
       "      <td>1927.790</td>\n",
       "      <td>2230810.415</td>\n",
       "      <td>1377387.723</td>\n",
       "      <td>3.5</td>\n",
       "      <td>6.5</td>\n",
       "      <td>...</td>\n",
       "      <td>114</td>\n",
       "      <td>201</td>\n",
       "      <td>0</td>\n",
       "      <td>5</td>\n",
       "      <td>4</td>\n",
       "      <td>1</td>\n",
       "      <td>0</td>\n",
       "      <td>13</td>\n",
       "      <td>0.0</td>\n",
       "      <td>0.0</td>\n",
       "    </tr>\n",
       "    <tr>\n",
       "      <th>8690</th>\n",
       "      <td>29</td>\n",
       "      <td>160</td>\n",
       "      <td>1144</td>\n",
       "      <td>1163046300</td>\n",
       "      <td>-0.678</td>\n",
       "      <td>1924.989</td>\n",
       "      <td>2230810.432</td>\n",
       "      <td>1377384.909</td>\n",
       "      <td>3.5</td>\n",
       "      <td>6.5</td>\n",
       "      <td>...</td>\n",
       "      <td>114</td>\n",
       "      <td>201</td>\n",
       "      <td>0</td>\n",
       "      <td>5</td>\n",
       "      <td>4</td>\n",
       "      <td>1</td>\n",
       "      <td>0</td>\n",
       "      <td>0</td>\n",
       "      <td>0.0</td>\n",
       "      <td>0.0</td>\n",
       "    </tr>\n",
       "  </tbody>\n",
       "</table>\n",
       "<p>5 rows × 24 columns</p>\n",
       "</div>"
      ],
      "text/plain": [
       "      Vehicle_ID  Frame_ID  Tot_Frames    Epoch_ms  Local_X   Local_Y  \\\n",
       "8686          29       156        1144  1163045900    0.623  1936.173   \n",
       "8687          29       157        1144  1163046000    0.249  1933.383   \n",
       "8688          29       158        1144  1163046100   -0.112  1930.590   \n",
       "8689          29       159        1144  1163046200   -0.395  1927.790   \n",
       "8690          29       160        1144  1163046300   -0.678  1924.989   \n",
       "\n",
       "         Global_X     Global_Y  Veh_Len  Veh_Wid   ...     Org_Zone  \\\n",
       "8686  2230810.364  1377396.167      3.5      6.5   ...          114   \n",
       "8687  2230810.381  1377393.352      3.5      6.5   ...          114   \n",
       "8688  2230810.398  1377390.538      3.5      6.5   ...          114   \n",
       "8689  2230810.415  1377387.723      3.5      6.5   ...          114   \n",
       "8690  2230810.432  1377384.909      3.5      6.5   ...          114   \n",
       "\n",
       "      Dest_Zone  Intersection  Section  Direction  Movement  Preceding_Veh  \\\n",
       "8686        201             0        5          4         1              0   \n",
       "8687        201             0        5          4         1              0   \n",
       "8688        201             0        5          4         1              0   \n",
       "8689        201             0        5          4         1              0   \n",
       "8690        201             0        5          4         1              0   \n",
       "\n",
       "      Following_Veh  Spacing  Headway  \n",
       "8686             13      0.0      0.0  \n",
       "8687             13      0.0      0.0  \n",
       "8688             13      0.0      0.0  \n",
       "8689             13      0.0      0.0  \n",
       "8690              0      0.0      0.0  \n",
       "\n",
       "[5 rows x 24 columns]"
      ]
     },
     "execution_count": 7,
     "metadata": {},
     "output_type": "execute_result"
    }
   ],
   "source": [
    "df_south_start_14th.head()"
   ]
  },
  {
   "cell_type": "code",
   "execution_count": 8,
   "metadata": {},
   "outputs": [
    {
     "data": {
      "text/plain": [
       "207"
      ]
     },
     "execution_count": 8,
     "metadata": {},
     "output_type": "execute_result"
    }
   ],
   "source": [
    "df_south_start_14th['Vehicle_ID'].nunique()"
   ]
  },
  {
   "cell_type": "code",
   "execution_count": 9,
   "metadata": {},
   "outputs": [
    {
     "data": {
      "text/plain": [
       "Vehicle_ID\n",
       "29    1163045900\n",
       "87    1163082900\n",
       "88    1163083800\n",
       "93    1163087000\n",
       "94    1163089300\n",
       "Name: Epoch_ms, dtype: int64"
      ]
     },
     "execution_count": 9,
     "metadata": {},
     "output_type": "execute_result"
    }
   ],
   "source": [
    "# get the entering time or each car start on 14th street\n",
    "epoch_min_per_vehicle_14 = df_south_start_14th.groupby('Vehicle_ID')[\"Epoch_ms\"].min()\n",
    "epoch_min_per_vehicle_14.head()"
   ]
  },
  {
   "cell_type": "code",
   "execution_count": 10,
   "metadata": {},
   "outputs": [],
   "source": [
    "enter_times = epoch_min_per_vehicle_14.values\n",
    "enter_times.sort()"
   ]
  },
  {
   "cell_type": "code",
   "execution_count": 11,
   "metadata": {},
   "outputs": [
    {
     "data": {
      "text/plain": [
       "0    26.0\n",
       "1     5.5\n",
       "2     5.5\n",
       "3     0.9\n",
       "4     3.2\n",
       "dtype: float64"
      ]
     },
     "execution_count": 11,
     "metadata": {},
     "output_type": "execute_result"
    }
   ],
   "source": [
    "difference = np.diff(enter_times)\n",
    "difference = (difference / 1000)\n",
    "difference = pd.Series(difference)\n",
    "difference.head()"
   ]
  },
  {
   "cell_type": "code",
   "execution_count": 13,
   "metadata": {},
   "outputs": [
    {
     "data": {
      "text/plain": [
       "<matplotlib.axes._subplots.AxesSubplot at 0x117bde898>"
      ]
     },
     "execution_count": 13,
     "metadata": {},
     "output_type": "execute_result"
    },
    {
     "data": {
      "image/png": "[encoded data removed]",
      "text/plain": [
       "<Figure size 432x288 with 1 Axes>"
      ]
     },
     "metadata": {
      "needs_background": "light"
     },
     "output_type": "display_data"
    }
   ],
   "source": [
    "difference.plot.hist(grid=True, bins=9, rwidth=0.9, color='#607c8e',title='14th Street')"
   ]
  },
  {
   "cell_type": "code",
   "execution_count": 21,
   "metadata": {},
   "outputs": [
    {
     "data": {
      "image/png": "[encoded data removed]",
      "text/plain": [
       "<Figure size 432x288 with 1 Axes>"
      ]
     },
     "metadata": {
      "needs_background": "light"
     },
     "output_type": "display_data"
    }
   ],
   "source": [
    "import matplotlib.pyplot as plot\n",
    "\n",
    "d_14 = difference.values\n",
    "plot.xlabel('Inter-arrival Distance (sec)')\n",
    "plot.plot(d_14, np.zeros_like(d_14), '.')\n",
    "plot.title('14th Street')\n",
    "plot.show()"
   ]
  },
  {
   "cell_type": "code",
   "execution_count": null,
   "metadata": {},
   "outputs": [],
   "source": [
    "# filter out the cars started on section 4 from 112\n",
    "df_south_start_13th = df[(df[\"Org_Zone\"] == 112) & (df[\"Section\"] == 4)]\n",
    "df_south_start_13th.shape"
   ]
  },
  {
   "cell_type": "code",
   "execution_count": null,
   "metadata": {},
   "outputs": [],
   "source": [
    "df_south_start_13th['Vehicle_ID'].nunique()"
   ]
  },
  {
   "cell_type": "markdown",
   "metadata": {},
   "source": [
    "Because the number of cars that enter from 13th street to Section 4 is only 2, we ignore the distribution of it."
   ]
  },
  {
   "cell_type": "code",
   "execution_count": null,
   "metadata": {},
   "outputs": [],
   "source": [
    "# filter out the cars started on section 3 from 121 and 106\n",
    "df_south_start_12th = df[((df[\"Org_Zone\"] == 121)|(df[\"Org_Zone\"] == 106)) & (df[\"Section\"] == 3)]\n",
    "df_south_start_12th.shape"
   ]
  },
  {
   "cell_type": "code",
   "execution_count": null,
   "metadata": {},
   "outputs": [],
   "source": [
    "df_south_start_12th['Vehicle_ID'].nunique()"
   ]
  },
  {
   "cell_type": "markdown",
   "metadata": {},
   "source": [
    "The number of cars that enter from 12th street to Section 3 is 8, we can also ignore the distribution of it."
   ]
  },
  {
   "cell_type": "code",
   "execution_count": null,
   "metadata": {},
   "outputs": [],
   "source": [
    "# filter out the cars started on section 2 from 122\n",
    "df_south_start_11th = df[((df[\"Org_Zone\"] == 122) | (df[\"Org_Zone\"] == 103)) & (df[\"Section\"] == 2)]\n",
    "df_south_start_11th.shape"
   ]
  },
  {
   "cell_type": "code",
   "execution_count": null,
   "metadata": {},
   "outputs": [],
   "source": [
    "df_south_start_11th['Vehicle_ID'].nunique()"
   ]
  },
  {
   "cell_type": "code",
   "execution_count": null,
   "metadata": {},
   "outputs": [],
   "source": [
    "# get the entering time or each car start on 12th street\n",
    "epoch_min_per_vehicle_11 = df_south_start_11th.groupby('Vehicle_ID')[\"Epoch_ms\"].min()"
   ]
  },
  {
   "cell_type": "code",
   "execution_count": null,
   "metadata": {},
   "outputs": [],
   "source": [
    "enter_times = epoch_min_per_vehicle_11.values\n",
    "enter_times.sort()\n",
    "difference = np.diff(enter_times)\n",
    "difference = (difference / 1000)\n",
    "difference = pd.Series(difference)\n",
    "difference.head()"
   ]
  },
  {
   "cell_type": "code",
   "execution_count": null,
   "metadata": {},
   "outputs": [],
   "source": [
    "difference.plot.hist(grid=True, bins=9, rwidth=0.9, color='#607c8e',title='11th Street')"
   ]
  },
  {
   "cell_type": "code",
   "execution_count": null,
   "metadata": {},
   "outputs": [],
   "source": []
  },
  {
   "cell_type": "code",
   "execution_count": null,
   "metadata": {},
   "outputs": [],
   "source": [
    "d_11 = difference.values\n",
    "\n",
    "plot.xlabel('Inter-arrival Distance (sec)')\n",
    "plot.plot(d_11, np.zeros_like(d_11), '.')\n",
    "plot.title('11th Street')\n",
    "plot.show()"
   ]
  },
  {
   "cell_type": "code",
   "execution_count": null,
   "metadata": {},
   "outputs": [],
   "source": [
    "d_11"
   ]
  },
  {
   "cell_type": "markdown",
   "metadata": {},
   "source": [
    "### Calculate Avg Travel time between 14th and 10th"
   ]
  },
  {
   "cell_type": "code",
   "execution_count": null,
   "metadata": {},
   "outputs": [],
   "source": [
    "df_south_pass_thru = df[(df[\"Org_Zone\"] == 114) & (df[\"Dest_Zone\"] == 201) ]"
   ]
  },
  {
   "cell_type": "code",
   "execution_count": null,
   "metadata": {},
   "outputs": [],
   "source": [
    "total_frames_per_vehicle = df_south_pass_thru.groupby('Vehicle_ID')[\"Tot_Frames\"].mean()\n",
    "\n",
    "epoch_min_per_vehicle = df_south_pass_thru.groupby('Vehicle_ID')[\"Epoch_ms\"].min()\n",
    "epoch_max_per_vehicle = df_south_pass_thru.groupby('Vehicle_ID')[\"Epoch_ms\"].max()"
   ]
  },
  {
   "cell_type": "code",
   "execution_count": null,
   "metadata": {},
   "outputs": [],
   "source": [
    "av_time = total_frames_per_vehicle.mean() * .1"
   ]
  },
  {
   "cell_type": "code",
   "execution_count": null,
   "metadata": {},
   "outputs": [],
   "source": [
    "av_time"
   ]
  },
  {
   "cell_type": "code",
   "execution_count": null,
   "metadata": {},
   "outputs": [],
   "source": [
    "time_elapsed = (epoch_max_per_vehicle - epoch_min_per_vehicle).mean() / 1000"
   ]
  },
  {
   "cell_type": "code",
   "execution_count": null,
   "metadata": {},
   "outputs": [],
   "source": [
    "time_elapsed"
   ]
  },
  {
   "cell_type": "markdown",
   "metadata": {},
   "source": [
    "## Fit Gamma"
   ]
  },
  {
   "cell_type": "code",
   "execution_count": null,
   "metadata": {},
   "outputs": [],
   "source": [
    "import scipy.stats as ss\n",
    "import scipy as sp\n",
    "\n",
    "d_14 = d_14[d_14 != 0]\n",
    "\n",
    "split_14 = np.random.rand(len(d_14)) < 0.8\n",
    "train_14 = d_14[split_14]\n",
    "test_14 = d_14[~split_14]\n",
    "# fit_alpha_14, fit_loc_14, fit_beta_14 = ss.gamma.fit(d_14)\n",
    "# fit_alpha_14, fit_loc_14, fit_beta_14"
   ]
  },
  {
   "cell_type": "code",
   "execution_count": null,
   "metadata": {},
   "outputs": [],
   "source": [
    "d_11 = d_11[d_11 != 0]\n",
    "split_11 = np.random.rand(len(d_11)) < 0.8\n",
    "train_11 = d_11[split_11]\n",
    "test_11 = d_11[~split_11]\n",
    "# fit_alpha_11, fit_loc_11, fit_beta_11 = ss.gamma.fit(d_11)\n",
    "# fit_alpha_11, fit_loc_11, fit_beta_11"
   ]
  },
  {
   "cell_type": "markdown",
   "metadata": {},
   "source": [
    "## Fit Dist\n",
    "\n",
    "Try out gamma, exponential, normal, and lognorm dists"
   ]
  },
  {
   "cell_type": "code",
   "execution_count": 15,
   "metadata": {},
   "outputs": [],
   "source": [
    "import fitdist\n",
    "import importlib"
   ]
  },
  {
   "cell_type": "code",
   "execution_count": null,
   "metadata": {},
   "outputs": [],
   "source": [
    "importlib.reload(fitdist)"
   ]
  },
  {
   "cell_type": "code",
   "execution_count": 16,
   "metadata": {},
   "outputs": [],
   "source": [
    "dist_14 = fitdist.Distribution()"
   ]
  },
  {
   "cell_type": "code",
   "execution_count": 18,
   "metadata": {},
   "outputs": [
    {
     "name": "stdout",
     "output_type": "stream",
     "text": [
      "Trying  norm\n",
      "D value for norm is 0.32682925807546404\n",
      "Trying  lognorm\n",
      "D value for lognorm is 0.1214681637654772\n",
      "Trying  expon\n",
      "D value for expon is 0.23681736963577926\n",
      "Trying  gamma\n",
      "D value for gamma is 0.21157447891396042\n",
      "Resulting distributions:  [('norm', 4.273956390636756e-20), ('lognorm', 0.00416724236649675), ('expon', 1.1987310890946123e-10), ('gamma', 1.4342395325829276e-08)]\n"
     ]
    },
    {
     "data": {
      "text/plain": [
       "('lognorm', 0.00416724236649675)"
      ]
     },
     "execution_count": 18,
     "metadata": {},
     "output_type": "execute_result"
    }
   ],
   "source": [
    "dist_14.Fit(d_14)"
   ]
  },
  {
   "cell_type": "code",
   "execution_count": 19,
   "metadata": {},
   "outputs": [
    {
     "data": {
      "image/png": "[encoded data removed]",
      "text/plain": [
       "<Figure size 432x288 with 1 Axes>"
      ]
     },
     "metadata": {
      "needs_background": "light"
     },
     "output_type": "display_data"
    }
   ],
   "source": [
    "dist_14.Plot(d_14)"
   ]
  },
  {
   "cell_type": "code",
   "execution_count": 20,
   "metadata": {},
   "outputs": [
    {
     "name": "stdout",
     "output_type": "stream",
     "text": [
      "Dist:  <scipy.stats._continuous_distns.lognorm_gen object at 0x11e700ac8>\n",
      "Param:  (1.123494632217069, -0.1308024415404237, 2.222162369513514)\n"
     ]
    }
   ],
   "source": [
    "dist_14.getDist()"
   ]
  },
  {
   "cell_type": "markdown",
   "metadata": {},
   "source": [
    "### Histogram of 14th Entering: \n",
    "\n",
    "For fitted lognormal plot on the test dataset \n",
    "\n",
    "- shapes = 1.2046882723087768\n",
    "- loc = -0.049603607783565\n",
    "- scale = 2.204733890577165"
   ]
  },
  {
   "cell_type": "code",
   "execution_count": null,
   "metadata": {},
   "outputs": [],
   "source": [
    "import matplotlib.pyplot as plt\n",
    "fitted_14 =[]\n",
    "for i in range(len(test_14)):\n",
    "    r = dist_14.Random()\n",
    "    fitted_14.append(r[0])\n",
    "plt.hist(fitted_14, alpha=0.5, label='fitted')\n",
    "plt.hist(test_14, alpha=0.5, label='actual')\n",
    "plt.legend(loc='upper right')\n",
    "plt.title('14th entering')"
   ]
  },
  {
   "cell_type": "code",
   "execution_count": null,
   "metadata": {},
   "outputs": [],
   "source": [
    "dist_11 = fitdist.Distribution()"
   ]
  },
  {
   "cell_type": "code",
   "execution_count": null,
   "metadata": {},
   "outputs": [],
   "source": [
    "dist_11.Fit(train_11)"
   ]
  },
  {
   "cell_type": "code",
   "execution_count": null,
   "metadata": {},
   "outputs": [],
   "source": [
    "dist_11.getDist()"
   ]
  },
  {
   "cell_type": "markdown",
   "metadata": {},
   "source": [
    "### Histogram of 11th Entering: \n",
    "\n",
    "For fitted lognormal plot with \n",
    "- shapes = 1.652463876573353\n",
    "- loc = 2.047041934913354\n",
    "- scale = 6.717587909256302"
   ]
  },
  {
   "cell_type": "code",
   "execution_count": null,
   "metadata": {},
   "outputs": [],
   "source": [
    "import matplotlib.pyplot as plt\n",
    "fitted_11 =[]\n",
    "for i in range(len(test_11)):\n",
    "    r = dist_11.Random()\n",
    "    fitted_11.append(r[0])\n",
    "plt.hist(fitted_11, alpha=0.5, label='fitted')\n",
    "plt.hist(test_11, alpha=0.5, label='actual')\n",
    "plt.legend(loc='upper right')\n",
    "plt.title('11th entering')"
   ]
  },
  {
   "cell_type": "code",
   "execution_count": null,
   "metadata": {},
   "outputs": [],
   "source": [
    "# Vechicle Generation on 14th\n",
    "car_14=[0]\n",
    "while True:  \n",
    "    r = dist_14.Random()\n",
    "    next_time = car_14[-1]+r[0]\n",
    "    if next_time <= 900:\n",
    "        car_14.append(next_time)\n",
    "    else:\n",
    "        break\n",
    "print('num of cars generated:', len(car_14),'\\n')\n",
    "print(car_14)"
   ]
  },
  {
   "cell_type": "markdown",
   "metadata": {},
   "source": [
    "Notes:\n",
    "num of cars generated: 187 \n",
    "\n",
    "[0, 0.9612642195386395, 3.539719238429014, 7.167948164111196, 8.241818096525687, 9.7487994663602, 11.22889925289062, 14.968568294508978, 16.721674363543947, 17.798668489069534, 18.051210608771395, 22.80043923946643, 31.599706546208385, 32.41808887717871, 32.73947393058564, 45.57812585122952, 47.001496394698556, 49.99219378168301, 55.3100745454171, 56.49275816612257, 57.92985722026359, 60.45240887062816, 67.26458122299742, 73.01251636632088, 76.00584480104754, 90.46646809978756, 94.74470499306642, 95.70882118603414, 98.9473158586248, 101.18138974396251, 104.97818607438077, 105.85148015362313, 107.59344938188863, 111.79977770894388, 112.6394578534942, 114.62618013446993, 115.7272521182604, 120.44483218433724, 123.08161842643281, 124.50022688211838, 128.68465395814798, 128.92742565690716, 132.84326845210373, 142.402637341194, 144.4615852577218, 145.3075648941485, 145.69156721976904, 149.07546527088488, 151.07074831445397, 152.11361056443852, 153.17789087840487, 154.62253810009614, 161.96097331102115, 174.104641089608, 175.45655579297252, 177.98335161770095, 184.21734068406752, 185.70366081661652, 187.39478231559008, 187.90775541368387, 191.72676222479708, 194.87021568386115, 195.3135679311817, 201.75283389963212, 202.4519147523345, 208.41102433337866, 209.15802053012456, 211.56586447548918, 213.0173924563301, 215.32766050638176, 216.28846696858997, 223.1668882135694, 224.44730560733296, 225.19721991300156, 228.50293704089972, 229.57347164696967, 231.00777892525366, 237.98269396578195, 243.83242510276875, 244.19027795734337, 245.04910369471654, 262.98623783046924, 267.1502106725117, 267.87020071581657, 268.0668100037627, 268.128404492543, 270.764971625543, 272.03519649255304, 272.55599473704024, 284.67678974672526, 286.4498022501065, 288.40490800950124, 289.658646736877, 295.3941311457821, 299.79381672083485, 310.54047286406893, 313.7946792795892, 314.0881331633305, 315.0035099792713, 315.435805821519, 317.7535449042472, 319.9184222265853, 323.8161357341109, 323.9938281190379, 331.43664967033385, 336.4809082341835, 337.4247282811788, 337.7834283953613, 338.73063741466535, 348.2216504074627, 351.9184600722713, 355.5414655492933, 362.4028580252602, 363.1779054833881, 369.1557683989894, 397.4733274417727, 405.4778582292446, 407.47188048028835, 410.5083746892327, 413.6872371372062, 416.945750105862, 426.7258598923838, 427.535307322885, 651.7873780986671, 656.0610850960628, 660.2266034392104, 661.0468396218841, 662.0810578679569, 663.9270432559543, 664.7697336013474, 673.277111585556, 676.2781307716724, 676.3466855051962, 677.244121152004, 679.0321283577288, 684.2912499815344, 694.7295781830709, 706.1681741670257, 708.6366790892596, 709.1053197091751, 710.4017941863409, 715.3030961405435, 724.60630800929, 726.1206863400483, 726.5103868737011, 730.4569975179464, 734.3290643788669, 737.3593703024602, 738.5430242084391, 739.5262664162889, 741.1144594988031, 767.0766537778055, 782.3116211074752, 782.3592773828508, 784.7186619698468, 794.3045438543967, 794.8191313938997, 807.0953543378081, 808.1555202801787, 810.2098594291887, 815.0458530587683, 815.4935451466023, 816.9448740374152, 817.1945026583852, 820.051954753229, 821.8524021719765, 822.3150082581706, 828.2339957850539, 832.063517934886, 833.5500290233729, 836.2888597459344, 856.9758680807727, 857.7773070928445, 858.2226542274849, 860.4767090202455, 866.0441467841035, 866.7185287412333, 867.5009350219284, 869.8563461645772, 871.8506789220432, 872.9577596715187, 874.4444330435845, 885.3090512281357, 885.4990627706198, 890.2235172471808, 891.5323326245687, 899.0273368870149]"
   ]
  },
  {
   "cell_type": "code",
   "execution_count": null,
   "metadata": {
    "scrolled": true
   },
   "outputs": [],
   "source": [
    "# Vechicle Generation on 11th\n",
    "car_11=[0]\n",
    "while True:  \n",
    "    r = dist_11.Random()\n",
    "    next_time = car_11[-1]+r[0]\n",
    "    if next_time <= 900:\n",
    "        car_11.append(next_time)\n",
    "    else:\n",
    "        break\n",
    "print('num of cars generated:', len(car_11),'\\n')\n",
    "print(car_11)"
   ]
  },
  {
   "cell_type": "markdown",
   "metadata": {},
   "source": [
    "Notes: \n",
    "num of cars generated: 58 \n",
    "\n",
    "[0, 3.7959771179601494, 7.936542246743041, 9.939470621096163, 17.179356137931862, 34.88519448102765, 66.41297690137812, 69.45131321240557, 124.5821420263522, 128.2762847901585, 150.74981582049378, 153.45430720798257, 159.51703903346737, 161.9333278421486, 164.1199439676425, 168.79218976300783, 265.29834133181356, 274.0574103506962, 282.82562468338745, 300.06328942980855, 304.7460940882334, 328.6180662886842, 333.63360921508865, 336.33702260467754, 338.63079260872945, 350.75644093679335, 354.77110424978076, 398.39648369204235, 402.5982601570797, 405.3803176798654, 410.40229227234363, 413.1254693933155, 455.2913900300041, 483.995225242003, 492.6831291814365, 515.71223012558, 520.6145073019777, 527.3274780403895, 539.5743764086113, 552.5882446638902, 556.993989581168, 561.3834153942814, 578.0536538341529, 586.9245821284436, 634.6498456048226, 638.2328549400522, 641.473531608176, 651.7387387339955, 702.8537303142238, 705.2990250844093, 710.5393705204228, 723.1451592305568, 728.8079778130246, 789.7397769572494, 793.2099090769509, 844.955314881151, 850.0482775473859, 872.1860039319564]"
   ]
  },
  {
   "cell_type": "markdown",
   "metadata": {},
   "source": [
    "## Traffic Lights Timing\n",
    "\n",
    "We only consider the traffic lights in the intersections of 11th, 12th and the Peachtree\n",
    "The yellow and red lights are combined as red for simplification.\n",
    "Assume the traffic lights always start with green lights at timestamp 0.\n",
    "\n",
    "11th and Peachtree\n",
    "Green Yellow Red\n",
    "41.5 3.2 55.4\n",
    "\n",
    "Green Red\n",
    "41.5 58.6\n",
    "\n",
    "\n",
    "12th and Peachtree\n",
    "Green Yellow Red\n",
    "61.4 3.2 35.7\n",
    "\n",
    "Green Red\n",
    "61.4 37.9"
   ]
  },
  {
   "cell_type": "code",
   "execution_count": null,
   "metadata": {},
   "outputs": [],
   "source": [
    "# 11th and Peachtree\n",
    "green_11 = [0]\n",
    "red_11 = []\n",
    "all_11 = [0]\n",
    "\n",
    "while True:\n",
    "    next_red = green_11[-1] + 41.5\n",
    "    next_green = next_red + 58.6\n",
    "    if (next_red <= 900) & (next_green <= 900):\n",
    "        red_11.append(next_red)\n",
    "        green_11.append(next_green)\n",
    "        all_11.append(next_red)\n",
    "        all_11.append(next_green)\n",
    "    else:\n",
    "        break\n",
    "\n",
    "print('green light starts',green_11)\n",
    "print('red light starts',red_11)\n",
    "print('traffic lights changing point',all_11)"
   ]
  },
  {
   "cell_type": "code",
   "execution_count": null,
   "metadata": {},
   "outputs": [],
   "source": [
    "# 12th and Peachtree\n",
    "green_12 = [0]\n",
    "red_12 = []\n",
    "all_12 = [0]\n",
    "\n",
    "while True:\n",
    "    next_red = green_12[-1] + 61.4\n",
    "    next_green = next_red + 37.9\n",
    "    if (next_red <= 900) & (next_green <= 900):\n",
    "        red_12.append(next_red)\n",
    "        green_12.append(next_green)\n",
    "        all_12.append(next_red)\n",
    "        all_12.append(next_green)\n",
    "    else:\n",
    "        break\n",
    "\n",
    "print('green light starts',green_12)\n",
    "print('red light starts',red_12)\n",
    "print('traffic lights changing point',all_12)"
   ]
  }
 ],
 "metadata": {
  "kernelspec": {
   "display_name": "Python 3",
   "language": "python",
   "name": "python3"
  },
  "language_info": {
   "codemirror_mode": {
    "name": "ipython",
    "version": 3
   },
   "file_extension": ".py",
   "mimetype": "text/x-python",
   "name": "python",
   "nbconvert_exporter": "python",
   "pygments_lexer": "ipython3",
   "version": "3.7.0"
  }
 },
 "nbformat": 4,
 "nbformat_minor": 2
}
