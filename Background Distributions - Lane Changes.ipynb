{
 "cells": [
  {
   "cell_type": "markdown",
   "metadata": {},
   "source": [
    "### Background dist \n",
    "\n",
    "NOTE: This notebook must be placed in the root folder alongside a `NGSIM-Data` folder which contains the `data.csv` file."
   ]
  },
  {
   "cell_type": "code",
   "execution_count": 1,
   "metadata": {},
   "outputs": [],
   "source": [
    "import pandas as pd\n",
    "import numpy as np"
   ]
  },
  {
   "cell_type": "code",
   "execution_count": 2,
   "metadata": {},
   "outputs": [],
   "source": [
    "df = pd.read_csv(\"NGSIM-Data/data.csv\")"
   ]
  },
  {
   "cell_type": "code",
   "execution_count": 3,
   "metadata": {},
   "outputs": [
    {
     "data": {
      "text/plain": [
       "(457997, 24)"
      ]
     },
     "execution_count": 3,
     "metadata": {},
     "output_type": "execute_result"
    }
   ],
   "source": [
    "df.shape"
   ]
  },
  {
   "cell_type": "code",
   "execution_count": 4,
   "metadata": {},
   "outputs": [],
   "source": [
    "df = df[df[\"Direction\"] == 4]"
   ]
  },
  {
   "cell_type": "code",
   "execution_count": 5,
   "metadata": {},
   "outputs": [
    {
     "data": {
      "text/plain": [
       "(253994, 24)"
      ]
     },
     "execution_count": 5,
     "metadata": {},
     "output_type": "execute_result"
    }
   ],
   "source": [
    "df.shape"
   ]
  },
  {
   "cell_type": "code",
   "execution_count": 6,
   "metadata": {},
   "outputs": [],
   "source": [
    "df_south_pass_thru = df[(df[\"Org_Zone\"] == 114) & (df[\"Dest_Zone\"] == 201) ]"
   ]
  },
  {
   "cell_type": "code",
   "execution_count": 7,
   "metadata": {},
   "outputs": [
    {
     "data": {
      "text/html": [
       "<div>\n",
       "<style scoped>\n",
       "    .dataframe tbody tr th:only-of-type {\n",
       "        vertical-align: middle;\n",
       "    }\n",
       "\n",
       "    .dataframe tbody tr th {\n",
       "        vertical-align: top;\n",
       "    }\n",
       "\n",
       "    .dataframe thead th {\n",
       "        text-align: right;\n",
       "    }\n",
       "</style>\n",
       "<table border=\"1\" class=\"dataframe\">\n",
       "  <thead>\n",
       "    <tr style=\"text-align: right;\">\n",
       "      <th></th>\n",
       "      <th>Vehicle_ID</th>\n",
       "      <th>Frame_ID</th>\n",
       "      <th>Tot_Frames</th>\n",
       "      <th>Epoch_ms</th>\n",
       "      <th>Local_X</th>\n",
       "      <th>Local_Y</th>\n",
       "      <th>Global_X</th>\n",
       "      <th>Global_Y</th>\n",
       "      <th>Veh_Len</th>\n",
       "      <th>Veh_Wid</th>\n",
       "      <th>...</th>\n",
       "      <th>Org_Zone</th>\n",
       "      <th>Dest_Zone</th>\n",
       "      <th>Intersection</th>\n",
       "      <th>Section</th>\n",
       "      <th>Direction</th>\n",
       "      <th>Movement</th>\n",
       "      <th>Preceding_Veh</th>\n",
       "      <th>Following_Veh</th>\n",
       "      <th>Spacing</th>\n",
       "      <th>Headway</th>\n",
       "    </tr>\n",
       "  </thead>\n",
       "  <tbody>\n",
       "    <tr>\n",
       "      <th>8684</th>\n",
       "      <td>29</td>\n",
       "      <td>154</td>\n",
       "      <td>1144</td>\n",
       "      <td>1163045700</td>\n",
       "      <td>9.805</td>\n",
       "      <td>2113.030</td>\n",
       "      <td>2230788.997</td>\n",
       "      <td>1377572.912</td>\n",
       "      <td>3.5</td>\n",
       "      <td>6.5</td>\n",
       "      <td>...</td>\n",
       "      <td>114</td>\n",
       "      <td>201</td>\n",
       "      <td>0</td>\n",
       "      <td>6</td>\n",
       "      <td>4</td>\n",
       "      <td>1</td>\n",
       "      <td>0</td>\n",
       "      <td>13</td>\n",
       "      <td>0.0</td>\n",
       "      <td>0.0</td>\n",
       "    </tr>\n",
       "    <tr>\n",
       "      <th>8685</th>\n",
       "      <td>29</td>\n",
       "      <td>155</td>\n",
       "      <td>1144</td>\n",
       "      <td>1163045800</td>\n",
       "      <td>9.892</td>\n",
       "      <td>2113.016</td>\n",
       "      <td>2230789.085</td>\n",
       "      <td>1377572.923</td>\n",
       "      <td>3.5</td>\n",
       "      <td>6.5</td>\n",
       "      <td>...</td>\n",
       "      <td>114</td>\n",
       "      <td>201</td>\n",
       "      <td>0</td>\n",
       "      <td>6</td>\n",
       "      <td>4</td>\n",
       "      <td>1</td>\n",
       "      <td>0</td>\n",
       "      <td>13</td>\n",
       "      <td>0.0</td>\n",
       "      <td>0.0</td>\n",
       "    </tr>\n",
       "    <tr>\n",
       "      <th>8686</th>\n",
       "      <td>29</td>\n",
       "      <td>156</td>\n",
       "      <td>1144</td>\n",
       "      <td>1163045900</td>\n",
       "      <td>0.623</td>\n",
       "      <td>1936.173</td>\n",
       "      <td>2230810.364</td>\n",
       "      <td>1377396.167</td>\n",
       "      <td>3.5</td>\n",
       "      <td>6.5</td>\n",
       "      <td>...</td>\n",
       "      <td>114</td>\n",
       "      <td>201</td>\n",
       "      <td>0</td>\n",
       "      <td>5</td>\n",
       "      <td>4</td>\n",
       "      <td>1</td>\n",
       "      <td>0</td>\n",
       "      <td>13</td>\n",
       "      <td>0.0</td>\n",
       "      <td>0.0</td>\n",
       "    </tr>\n",
       "    <tr>\n",
       "      <th>8687</th>\n",
       "      <td>29</td>\n",
       "      <td>157</td>\n",
       "      <td>1144</td>\n",
       "      <td>1163046000</td>\n",
       "      <td>0.249</td>\n",
       "      <td>1933.383</td>\n",
       "      <td>2230810.381</td>\n",
       "      <td>1377393.352</td>\n",
       "      <td>3.5</td>\n",
       "      <td>6.5</td>\n",
       "      <td>...</td>\n",
       "      <td>114</td>\n",
       "      <td>201</td>\n",
       "      <td>0</td>\n",
       "      <td>5</td>\n",
       "      <td>4</td>\n",
       "      <td>1</td>\n",
       "      <td>0</td>\n",
       "      <td>13</td>\n",
       "      <td>0.0</td>\n",
       "      <td>0.0</td>\n",
       "    </tr>\n",
       "    <tr>\n",
       "      <th>8688</th>\n",
       "      <td>29</td>\n",
       "      <td>158</td>\n",
       "      <td>1144</td>\n",
       "      <td>1163046100</td>\n",
       "      <td>-0.112</td>\n",
       "      <td>1930.590</td>\n",
       "      <td>2230810.398</td>\n",
       "      <td>1377390.538</td>\n",
       "      <td>3.5</td>\n",
       "      <td>6.5</td>\n",
       "      <td>...</td>\n",
       "      <td>114</td>\n",
       "      <td>201</td>\n",
       "      <td>0</td>\n",
       "      <td>5</td>\n",
       "      <td>4</td>\n",
       "      <td>1</td>\n",
       "      <td>0</td>\n",
       "      <td>13</td>\n",
       "      <td>0.0</td>\n",
       "      <td>0.0</td>\n",
       "    </tr>\n",
       "  </tbody>\n",
       "</table>\n",
       "<p>5 rows × 24 columns</p>\n",
       "</div>"
      ],
      "text/plain": [
       "      Vehicle_ID  Frame_ID  Tot_Frames    Epoch_ms  Local_X   Local_Y  \\\n",
       "8684          29       154        1144  1163045700    9.805  2113.030   \n",
       "8685          29       155        1144  1163045800    9.892  2113.016   \n",
       "8686          29       156        1144  1163045900    0.623  1936.173   \n",
       "8687          29       157        1144  1163046000    0.249  1933.383   \n",
       "8688          29       158        1144  1163046100   -0.112  1930.590   \n",
       "\n",
       "         Global_X     Global_Y  Veh_Len  Veh_Wid   ...     Org_Zone  \\\n",
       "8684  2230788.997  1377572.912      3.5      6.5   ...          114   \n",
       "8685  2230789.085  1377572.923      3.5      6.5   ...          114   \n",
       "8686  2230810.364  1377396.167      3.5      6.5   ...          114   \n",
       "8687  2230810.381  1377393.352      3.5      6.5   ...          114   \n",
       "8688  2230810.398  1377390.538      3.5      6.5   ...          114   \n",
       "\n",
       "      Dest_Zone  Intersection  Section  Direction  Movement  Preceding_Veh  \\\n",
       "8684        201             0        6          4         1              0   \n",
       "8685        201             0        6          4         1              0   \n",
       "8686        201             0        5          4         1              0   \n",
       "8687        201             0        5          4         1              0   \n",
       "8688        201             0        5          4         1              0   \n",
       "\n",
       "      Following_Veh  Spacing  Headway  \n",
       "8684             13      0.0      0.0  \n",
       "8685             13      0.0      0.0  \n",
       "8686             13      0.0      0.0  \n",
       "8687             13      0.0      0.0  \n",
       "8688             13      0.0      0.0  \n",
       "\n",
       "[5 rows x 24 columns]"
      ]
     },
     "execution_count": 7,
     "metadata": {},
     "output_type": "execute_result"
    }
   ],
   "source": [
    "df_south_pass_thru.head()"
   ]
  },
  {
   "cell_type": "code",
   "execution_count": 8,
   "metadata": {},
   "outputs": [],
   "source": [
    "total_frames_per_vehicle = df_south_pass_thru.groupby('Vehicle_ID')[\"Tot_Frames\"].mean()\n",
    "\n",
    "epoch_min_per_vehicle = df_south_pass_thru.groupby('Vehicle_ID')[\"Epoch_ms\"].min()\n",
    "epoch_max_per_vehicle = df_south_pass_thru.groupby('Vehicle_ID')[\"Epoch_ms\"].max()"
   ]
  },
  {
   "cell_type": "code",
   "execution_count": 9,
   "metadata": {},
   "outputs": [],
   "source": [
    "av_time = total_frames_per_vehicle.mean() * .1"
   ]
  },
  {
   "cell_type": "code",
   "execution_count": 10,
   "metadata": {},
   "outputs": [
    {
     "data": {
      "text/plain": [
       "133.96712328767123"
      ]
     },
     "execution_count": 10,
     "metadata": {},
     "output_type": "execute_result"
    }
   ],
   "source": [
    "av_time"
   ]
  },
  {
   "cell_type": "code",
   "execution_count": 11,
   "metadata": {},
   "outputs": [],
   "source": [
    "time_elapsed = (epoch_max_per_vehicle - epoch_min_per_vehicle).mean() / 1000"
   ]
  },
  {
   "cell_type": "code",
   "execution_count": 12,
   "metadata": {},
   "outputs": [
    {
     "data": {
      "text/plain": [
       "133.86712328767123"
      ]
     },
     "execution_count": 12,
     "metadata": {},
     "output_type": "execute_result"
    }
   ],
   "source": [
    "time_elapsed"
   ]
  },
  {
   "cell_type": "code",
   "execution_count": 13,
   "metadata": {},
   "outputs": [],
   "source": [
    "enter_times = epoch_min_per_vehicle.values\n",
    "enter_times.sort()\n",
    "\n",
    "difference = np.diff(enter_times)\n",
    "difference = (difference / 1000)"
   ]
  },
  {
   "cell_type": "code",
   "execution_count": 14,
   "metadata": {},
   "outputs": [],
   "source": [
    "difference = pd.Series(difference)"
   ]
  },
  {
   "cell_type": "code",
   "execution_count": 15,
   "metadata": {
    "scrolled": true
   },
   "outputs": [
    {
     "data": {
      "text/plain": [
       "0     34.5\n",
       "1      2.9\n",
       "2      9.9\n",
       "3      7.1\n",
       "4      6.2\n",
       "5      2.2\n",
       "6      1.0\n",
       "7      9.9\n",
       "8      5.2\n",
       "9      3.3\n",
       "10    69.0\n",
       "11     4.4\n",
       "12     3.3\n",
       "13    16.7\n",
       "14     6.6\n",
       "15    64.7\n",
       "16     2.8\n",
       "17     0.0\n",
       "18     3.8\n",
       "19     2.6\n",
       "20     4.2\n",
       "21     2.8\n",
       "22     2.8\n",
       "23     1.5\n",
       "24     3.5\n",
       "25     0.5\n",
       "26     7.9\n",
       "27     2.2\n",
       "28    70.6\n",
       "29    13.3\n",
       "      ... \n",
       "42     8.1\n",
       "43    63.1\n",
       "44     8.6\n",
       "45     2.3\n",
       "46     5.6\n",
       "47     4.5\n",
       "48     1.8\n",
       "49     2.7\n",
       "50     6.0\n",
       "51     8.2\n",
       "52    67.4\n",
       "53     7.8\n",
       "54     2.1\n",
       "55     6.2\n",
       "56     5.7\n",
       "57     2.3\n",
       "58    74.2\n",
       "59     4.6\n",
       "60     2.8\n",
       "61     1.7\n",
       "62     8.1\n",
       "63     1.9\n",
       "64     3.8\n",
       "65     2.3\n",
       "66    78.0\n",
       "67     4.2\n",
       "68     4.3\n",
       "69     3.2\n",
       "70    10.1\n",
       "71     1.1\n",
       "Length: 72, dtype: float64"
      ]
     },
     "execution_count": 15,
     "metadata": {},
     "output_type": "execute_result"
    }
   ],
   "source": [
    "difference"
   ]
  },
  {
   "cell_type": "code",
   "execution_count": 16,
   "metadata": {},
   "outputs": [
    {
     "data": {
      "text/plain": [
       "<matplotlib.axes._subplots.AxesSubplot at 0x113b98860>"
      ]
     },
     "execution_count": 16,
     "metadata": {},
     "output_type": "execute_result"
    }
   ],
   "source": [
    "# bins = sqrt(n)\n",
    "\n",
    "difference.plot.hist(grid=True, bins=9, rwidth=0.9, color='#607c8e')"
   ]
  },
  {
   "cell_type": "code",
   "execution_count": 17,
   "metadata": {},
   "outputs": [
    {
     "data": {
      "text/plain": [
       "<matplotlib.axes._subplots.AxesSubplot at 0x11460d668>"
      ]
     },
     "execution_count": 17,
     "metadata": {},
     "output_type": "execute_result"
    },
    {
     "data": {
      "image/png": "[encoded data removed]",
      "text/plain": [
       "<Figure size 432x288 with 1 Axes>"
      ]
     },
     "metadata": {
      "needs_background": "light"
     },
     "output_type": "display_data"
    }
   ],
   "source": [
    "# bins = (2n) ^ 1/3 = 5\n",
    "difference.plot.hist(grid=True, bins=5, rwidth=0.9, color='#607c8e')\n"
   ]
  },
  {
   "cell_type": "code",
   "execution_count": 18,
   "metadata": {},
   "outputs": [
    {
     "data": {
      "image/png": "[encoded data removed]",
      "text/plain": [
       "<Figure size 432x288 with 1 Axes>"
      ]
     },
     "metadata": {
      "needs_background": "light"
     },
     "output_type": "display_data"
    }
   ],
   "source": [
    "import matplotlib.pyplot as plot\n",
    "\n",
    "d = difference.values\n",
    "\n",
    "plot.plot(d, np.zeros_like(d), '.')\n",
    "plot.show()"
   ]
  },
  {
   "cell_type": "markdown",
   "metadata": {},
   "source": [
    "## Fit Gamma"
   ]
  },
  {
   "cell_type": "code",
   "execution_count": 19,
   "metadata": {},
   "outputs": [],
   "source": [
    "import scipy.stats as ss\n",
    "import scipy as sp\n",
    "\n",
    "d = d[d != 0]\n",
    "\n",
    "fit_alpha, fit_loc, fit_beta = ss.gamma.fit(d)"
   ]
  },
  {
   "cell_type": "code",
   "execution_count": 20,
   "metadata": {},
   "outputs": [
    {
     "data": {
      "text/plain": [
       "0.5968164961690746"
      ]
     },
     "execution_count": 20,
     "metadata": {},
     "output_type": "execute_result"
    }
   ],
   "source": [
    "fit_alpha"
   ]
  },
  {
   "cell_type": "code",
   "execution_count": 21,
   "metadata": {},
   "outputs": [
    {
     "data": {
      "text/plain": [
       "0.4999999999999999"
      ]
     },
     "execution_count": 21,
     "metadata": {},
     "output_type": "execute_result"
    }
   ],
   "source": [
    "fit_loc"
   ]
  },
  {
   "cell_type": "code",
   "execution_count": 22,
   "metadata": {},
   "outputs": [
    {
     "data": {
      "text/plain": [
       "20.643597997380056"
      ]
     },
     "execution_count": 22,
     "metadata": {},
     "output_type": "execute_result"
    }
   ],
   "source": [
    "fit_beta"
   ]
  },
  {
   "cell_type": "markdown",
   "metadata": {},
   "source": [
    "## Fit Dist\n",
    "\n",
    "Try out gamma, exponential, normal, and lognorm dists"
   ]
  },
  {
   "cell_type": "code",
   "execution_count": 23,
   "metadata": {},
   "outputs": [],
   "source": [
    "import fitdist\n",
    "import importlib"
   ]
  },
  {
   "cell_type": "code",
   "execution_count": 100,
   "metadata": {},
   "outputs": [
    {
     "data": {
      "text/plain": [
       "<module 'fitdist' from '/Users/willepp/Documents/Class/CX 4230/Project2/ComputerSimProject2/fitdist.py'>"
      ]
     },
     "execution_count": 100,
     "metadata": {},
     "output_type": "execute_result"
    }
   ],
   "source": [
    "importlib.reload(fitdist)"
   ]
  },
  {
   "cell_type": "code",
   "execution_count": 101,
   "metadata": {},
   "outputs": [],
   "source": [
    "dist = fitdist.Distribution()"
   ]
  },
  {
   "cell_type": "code",
   "execution_count": 102,
   "metadata": {},
   "outputs": [
    {
     "name": "stdout",
     "output_type": "stream",
     "text": [
      "Trying  norm\n",
      "D value for norm is 0.38805234296940283\n",
      "Trying  lognorm\n",
      "D value for lognorm is 0.13609897929085613\n",
      "Trying  expon\n",
      "D value for expon is 0.31046452848224826\n",
      "Trying  gamma\n",
      "D value for gamma is 0.2458256715549728\n",
      "Resulting distributions:  [('norm', 3.891151299687967e-10), ('lognorm', 0.13122539357539256), ('expon', 1.4114010554332358e-06), ('gamma', 0.00028989507896281646)]\n"
     ]
    },
    {
     "data": {
      "text/plain": [
       "('lognorm', 0.13122539357539256)"
      ]
     },
     "execution_count": 102,
     "metadata": {},
     "output_type": "execute_result"
    }
   ],
   "source": [
    "dist.Fit(d)"
   ]
  },
  {
   "cell_type": "code",
   "execution_count": 27,
   "metadata": {},
   "outputs": [
    {
     "name": "stdout",
     "output_type": "stream",
     "text": [
      "Dist:  <scipy.stats._continuous_distns.lognorm_gen object at 0x12229b7b8>\n",
      "Param:  (1.235172097023483, 0.37297021138469266, 4.820377381126887)\n"
     ]
    }
   ],
   "source": [
    "dist.getDist()"
   ]
  },
  {
   "cell_type": "code",
   "execution_count": 28,
   "metadata": {},
   "outputs": [],
   "source": [
    "rands = dist.Random()"
   ]
  },
  {
   "cell_type": "markdown",
   "metadata": {},
   "source": [
    "### Histogram \n",
    "\n",
    "For fitted lognormal plot with \n",
    "\n",
    "- shapes = 1.235172097023483\n",
    "- loc = 0.37297021138469266\n",
    "- scale = 4.820377381126887"
   ]
  },
  {
   "cell_type": "code",
   "execution_count": 29,
   "metadata": {},
   "outputs": [
    {
     "data": {
      "image/png": "[encoded data removed]",
      "text/plain": [
       "<Figure size 432x288 with 1 Axes>"
      ]
     },
     "metadata": {
      "needs_background": "light"
     },
     "output_type": "display_data"
    }
   ],
   "source": [
    "dist.Plot(d)"
   ]
  },
  {
   "cell_type": "code",
   "execution_count": 30,
   "metadata": {},
   "outputs": [
    {
     "data": {
      "text/plain": [
       "20.014818850789922"
      ]
     },
     "execution_count": 30,
     "metadata": {},
     "output_type": "execute_result"
    }
   ],
   "source": [
    "# Sample\n",
    "r = dist.Random()\n",
    "r[0]"
   ]
  },
  {
   "cell_type": "markdown",
   "metadata": {},
   "source": [
    "### Fit actual dist"
   ]
  },
  {
   "cell_type": "code",
   "execution_count": 31,
   "metadata": {},
   "outputs": [],
   "source": [
    "n = len(d)\n",
    "log_dist = sp.stats.lognorm"
   ]
  },
  {
   "cell_type": "code",
   "execution_count": 32,
   "metadata": {},
   "outputs": [],
   "source": [
    "rand = log_dist.rvs(1.235172097023483, loc=0.37297021138469266, scale=4.820377381126887, size=1)[0]"
   ]
  },
  {
   "cell_type": "code",
   "execution_count": 33,
   "metadata": {},
   "outputs": [
    {
     "data": {
      "text/plain": [
       "2.91843667991498"
      ]
     },
     "execution_count": 33,
     "metadata": {},
     "output_type": "execute_result"
    }
   ],
   "source": [
    "rand"
   ]
  },
  {
   "cell_type": "code",
   "execution_count": 34,
   "metadata": {},
   "outputs": [
    {
     "data": {
      "text/plain": [
       "array([34.5,  2.9,  9.9,  7.1,  6.2,  2.2,  1. ,  9.9,  5.2,  3.3, 69. ,\n",
       "        4.4,  3.3, 16.7,  6.6, 64.7,  2.8,  3.8,  2.6,  4.2,  2.8,  2.8,\n",
       "        1.5,  3.5,  0.5,  7.9,  2.2, 70.6, 13.3,  5.8,  4.4,  4.4, 63.8,\n",
       "        6.1,  3. ,  2.5,  1.6,  2.4,  5.7,  2.1,  5.9,  8.1, 63.1,  8.6,\n",
       "        2.3,  5.6,  4.5,  1.8,  2.7,  6. ,  8.2, 67.4,  7.8,  2.1,  6.2,\n",
       "        5.7,  2.3, 74.2,  4.6,  2.8,  1.7,  8.1,  1.9,  3.8,  2.3, 78. ,\n",
       "        4.2,  4.3,  3.2, 10.1,  1.1])"
      ]
     },
     "execution_count": 34,
     "metadata": {},
     "output_type": "execute_result"
    }
   ],
   "source": [
    "d"
   ]
  },
  {
   "cell_type": "markdown",
   "metadata": {},
   "source": [
    "### Emp dist for lane changes"
   ]
  },
  {
   "cell_type": "code",
   "execution_count": 35,
   "metadata": {},
   "outputs": [
    {
     "data": {
      "text/html": [
       "<div>\n",
       "<style scoped>\n",
       "    .dataframe tbody tr th:only-of-type {\n",
       "        vertical-align: middle;\n",
       "    }\n",
       "\n",
       "    .dataframe tbody tr th {\n",
       "        vertical-align: top;\n",
       "    }\n",
       "\n",
       "    .dataframe thead th {\n",
       "        text-align: right;\n",
       "    }\n",
       "</style>\n",
       "<table border=\"1\" class=\"dataframe\">\n",
       "  <thead>\n",
       "    <tr style=\"text-align: right;\">\n",
       "      <th></th>\n",
       "      <th>Vehicle_ID</th>\n",
       "      <th>Frame_ID</th>\n",
       "      <th>Tot_Frames</th>\n",
       "      <th>Epoch_ms</th>\n",
       "      <th>Local_X</th>\n",
       "      <th>Local_Y</th>\n",
       "      <th>Global_X</th>\n",
       "      <th>Global_Y</th>\n",
       "      <th>Veh_Len</th>\n",
       "      <th>Veh_Wid</th>\n",
       "      <th>...</th>\n",
       "      <th>Org_Zone</th>\n",
       "      <th>Dest_Zone</th>\n",
       "      <th>Intersection</th>\n",
       "      <th>Section</th>\n",
       "      <th>Direction</th>\n",
       "      <th>Movement</th>\n",
       "      <th>Preceding_Veh</th>\n",
       "      <th>Following_Veh</th>\n",
       "      <th>Spacing</th>\n",
       "      <th>Headway</th>\n",
       "    </tr>\n",
       "  </thead>\n",
       "  <tbody>\n",
       "    <tr>\n",
       "      <th>1680</th>\n",
       "      <td>6</td>\n",
       "      <td>5</td>\n",
       "      <td>31</td>\n",
       "      <td>1163030800</td>\n",
       "      <td>-2.673</td>\n",
       "      <td>2072.566</td>\n",
       "      <td>2230786.882</td>\n",
       "      <td>1377530.554</td>\n",
       "      <td>19.1</td>\n",
       "      <td>6.5</td>\n",
       "      <td>...</td>\n",
       "      <td>114</td>\n",
       "      <td>213</td>\n",
       "      <td>5</td>\n",
       "      <td>0</td>\n",
       "      <td>4</td>\n",
       "      <td>2</td>\n",
       "      <td>0</td>\n",
       "      <td>0</td>\n",
       "      <td>0.0</td>\n",
       "      <td>0.0</td>\n",
       "    </tr>\n",
       "    <tr>\n",
       "      <th>1681</th>\n",
       "      <td>6</td>\n",
       "      <td>6</td>\n",
       "      <td>31</td>\n",
       "      <td>1163030900</td>\n",
       "      <td>-2.226</td>\n",
       "      <td>2070.553</td>\n",
       "      <td>2230787.631</td>\n",
       "      <td>1377528.633</td>\n",
       "      <td>19.1</td>\n",
       "      <td>6.5</td>\n",
       "      <td>...</td>\n",
       "      <td>114</td>\n",
       "      <td>213</td>\n",
       "      <td>5</td>\n",
       "      <td>0</td>\n",
       "      <td>4</td>\n",
       "      <td>2</td>\n",
       "      <td>0</td>\n",
       "      <td>0</td>\n",
       "      <td>0.0</td>\n",
       "      <td>0.0</td>\n",
       "    </tr>\n",
       "    <tr>\n",
       "      <th>1682</th>\n",
       "      <td>6</td>\n",
       "      <td>7</td>\n",
       "      <td>31</td>\n",
       "      <td>1163031000</td>\n",
       "      <td>-1.294</td>\n",
       "      <td>2068.028</td>\n",
       "      <td>2230788.939</td>\n",
       "      <td>1377526.280</td>\n",
       "      <td>19.1</td>\n",
       "      <td>6.5</td>\n",
       "      <td>...</td>\n",
       "      <td>114</td>\n",
       "      <td>213</td>\n",
       "      <td>5</td>\n",
       "      <td>0</td>\n",
       "      <td>4</td>\n",
       "      <td>2</td>\n",
       "      <td>0</td>\n",
       "      <td>0</td>\n",
       "      <td>0.0</td>\n",
       "      <td>0.0</td>\n",
       "    </tr>\n",
       "    <tr>\n",
       "      <th>1683</th>\n",
       "      <td>6</td>\n",
       "      <td>8</td>\n",
       "      <td>31</td>\n",
       "      <td>1163031100</td>\n",
       "      <td>-0.861</td>\n",
       "      <td>2065.515</td>\n",
       "      <td>2230789.751</td>\n",
       "      <td>1377523.863</td>\n",
       "      <td>19.1</td>\n",
       "      <td>6.5</td>\n",
       "      <td>...</td>\n",
       "      <td>114</td>\n",
       "      <td>213</td>\n",
       "      <td>5</td>\n",
       "      <td>0</td>\n",
       "      <td>4</td>\n",
       "      <td>2</td>\n",
       "      <td>0</td>\n",
       "      <td>0</td>\n",
       "      <td>0.0</td>\n",
       "      <td>0.0</td>\n",
       "    </tr>\n",
       "    <tr>\n",
       "      <th>1684</th>\n",
       "      <td>6</td>\n",
       "      <td>9</td>\n",
       "      <td>31</td>\n",
       "      <td>1163031200</td>\n",
       "      <td>0.557</td>\n",
       "      <td>2063.026</td>\n",
       "      <td>2230791.533</td>\n",
       "      <td>1377521.621</td>\n",
       "      <td>19.1</td>\n",
       "      <td>6.5</td>\n",
       "      <td>...</td>\n",
       "      <td>114</td>\n",
       "      <td>213</td>\n",
       "      <td>5</td>\n",
       "      <td>0</td>\n",
       "      <td>4</td>\n",
       "      <td>2</td>\n",
       "      <td>0</td>\n",
       "      <td>0</td>\n",
       "      <td>0.0</td>\n",
       "      <td>0.0</td>\n",
       "    </tr>\n",
       "  </tbody>\n",
       "</table>\n",
       "<p>5 rows × 24 columns</p>\n",
       "</div>"
      ],
      "text/plain": [
       "      Vehicle_ID  Frame_ID  Tot_Frames    Epoch_ms  Local_X   Local_Y  \\\n",
       "1680           6         5          31  1163030800   -2.673  2072.566   \n",
       "1681           6         6          31  1163030900   -2.226  2070.553   \n",
       "1682           6         7          31  1163031000   -1.294  2068.028   \n",
       "1683           6         8          31  1163031100   -0.861  2065.515   \n",
       "1684           6         9          31  1163031200    0.557  2063.026   \n",
       "\n",
       "         Global_X     Global_Y  Veh_Len  Veh_Wid   ...     Org_Zone  \\\n",
       "1680  2230786.882  1377530.554     19.1      6.5   ...          114   \n",
       "1681  2230787.631  1377528.633     19.1      6.5   ...          114   \n",
       "1682  2230788.939  1377526.280     19.1      6.5   ...          114   \n",
       "1683  2230789.751  1377523.863     19.1      6.5   ...          114   \n",
       "1684  2230791.533  1377521.621     19.1      6.5   ...          114   \n",
       "\n",
       "      Dest_Zone  Intersection  Section  Direction  Movement  Preceding_Veh  \\\n",
       "1680        213             5        0          4         2              0   \n",
       "1681        213             5        0          4         2              0   \n",
       "1682        213             5        0          4         2              0   \n",
       "1683        213             5        0          4         2              0   \n",
       "1684        213             5        0          4         2              0   \n",
       "\n",
       "      Following_Veh  Spacing  Headway  \n",
       "1680              0      0.0      0.0  \n",
       "1681              0      0.0      0.0  \n",
       "1682              0      0.0      0.0  \n",
       "1683              0      0.0      0.0  \n",
       "1684              0      0.0      0.0  \n",
       "\n",
       "[5 rows x 24 columns]"
      ]
     },
     "execution_count": 35,
     "metadata": {},
     "output_type": "execute_result"
    }
   ],
   "source": [
    "df.head()"
   ]
  },
  {
   "cell_type": "code",
   "execution_count": 36,
   "metadata": {},
   "outputs": [
    {
     "data": {
      "text/plain": [
       "array([4])"
      ]
     },
     "execution_count": 36,
     "metadata": {},
     "output_type": "execute_result"
    }
   ],
   "source": [
    "df['Direction'].unique()"
   ]
  },
  {
   "cell_type": "code",
   "execution_count": 37,
   "metadata": {},
   "outputs": [],
   "source": [
    "south_bound_veh_ids = df['Vehicle_ID'].unique()"
   ]
  },
  {
   "cell_type": "code",
   "execution_count": 38,
   "metadata": {},
   "outputs": [],
   "source": [
    "changes = []\n",
    "for id_n in south_bound_veh_ids:\n",
    "    this_car_s = df_south_pass_thru[df_south_pass_thru['Vehicle_ID'] == id_n]['Lane_ID']\n",
    "    \n",
    "    #delt = []\n",
    "    cur_lane = None\n",
    "    for i, lane in this_car_s.iteritems():\n",
    "        if cur_lane is None:\n",
    "            cur_lane = lane\n",
    "        \n",
    "        if cur_lane != lane:\n",
    "            changes.append(lane - cur_lane)\n",
    "            cur_lane = lane\n",
    "        else:\n",
    "            changes.append(0)\n",
    "    \n",
    "    #changes.append(delt)\n"
   ]
  },
  {
   "cell_type": "code",
   "execution_count": 39,
   "metadata": {},
   "outputs": [],
   "source": [
    "changes = pd.Series(changes)"
   ]
  },
  {
   "cell_type": "code",
   "execution_count": 40,
   "metadata": {},
   "outputs": [],
   "source": [
    "changes[changes < 0] = -1\n",
    "changes[changes > 0] = 1"
   ]
  },
  {
   "cell_type": "code",
   "execution_count": 41,
   "metadata": {},
   "outputs": [],
   "source": [
    "vc = changes.value_counts()"
   ]
  },
  {
   "cell_type": "code",
   "execution_count": 42,
   "metadata": {},
   "outputs": [
    {
     "name": "stdout",
     "output_type": "stream",
     "text": [
      "Straight prob:  0.9920035176341865\n",
      "Left Lane change prob:  0.003977789821357357\n",
      "Right Lane change prob:  0.004018692544456147\n"
     ]
    }
   ],
   "source": [
    "right_change = vc[1] / len(changes)\n",
    "left_change = vc[-1] / len(changes)\n",
    "straight = vc[0] / len(changes)\n",
    "\n",
    "print('Straight prob: ', straight)\n",
    "print('Left Lane change prob: ', left_change)\n",
    "print('Right Lane change prob: ', right_change)"
   ]
  },
  {
   "cell_type": "markdown",
   "metadata": {},
   "source": [
    "### Entering on 11th street"
   ]
  },
  {
   "cell_type": "code",
   "execution_count": 43,
   "metadata": {},
   "outputs": [],
   "source": [
    "d_eleven = [2.2,  5.7, 73.1,  9.6,  8.1, 10.2, 38.2, 82.1, 37.9, 21.1, 31.7,\n",
    "       18.7, 13.1,  3.1, 10.9,  2.3, 21.4,  9.5,  8.4,  4.2, 46.3,  7.7,\n",
    "        3.4,  7.1, 12.6,  3.3,  8.1, 40.6, 62.5,  7.3,  4.8,  2.3, 81.6,\n",
    "        4.5, 41.6,  4.7, 23.6,  5.7,  5.8,  5.8, 62.1, 25.9,  2.6]"
   ]
  },
  {
   "cell_type": "code",
   "execution_count": 44,
   "metadata": {},
   "outputs": [
    {
     "name": "stdout",
     "output_type": "stream",
     "text": [
      "Trying  norm\n",
      "Trying  lognorm\n",
      "Trying  expon\n",
      "Trying  gamma\n",
      "Resulting distributions:  [('norm', 0.0054436275416987695), ('lognorm', 0.9536637212972272), ('expon', 0.04797003537567874), ('gamma', 0.20098044348224264)]\n"
     ]
    },
    {
     "data": {
      "text/plain": [
       "('lognorm', 0.9536637212972272)"
      ]
     },
     "execution_count": 44,
     "metadata": {},
     "output_type": "execute_result"
    }
   ],
   "source": [
    "dist_elev = fitdist.Distribution()\n",
    "\n",
    "dist_elev.Fit(d_eleven)"
   ]
  },
  {
   "cell_type": "code",
   "execution_count": 45,
   "metadata": {},
   "outputs": [
    {
     "name": "stdout",
     "output_type": "stream",
     "text": [
      "Dist:  <scipy.stats._continuous_distns.lognorm_gen object at 0x12229b7b8>\n",
      "Param:  (1.5234191072345973, 1.9716462121837928, 7.605110207945611)\n"
     ]
    }
   ],
   "source": [
    "dist_elev.getDist()"
   ]
  },
  {
   "cell_type": "code",
   "execution_count": 46,
   "metadata": {},
   "outputs": [],
   "source": [
    "log_dist_elev = sp.stats.lognorm"
   ]
  },
  {
   "cell_type": "code",
   "execution_count": 98,
   "metadata": {},
   "outputs": [
    {
     "data": {
      "text/plain": [
       "2.466332918019128"
      ]
     },
     "execution_count": 98,
     "metadata": {},
     "output_type": "execute_result"
    }
   ],
   "source": [
    "log_dist_elev.rvs(1.5234191072345973, loc=1.9716462121837928, scale=7.605110207945611, size=1)[0]"
   ]
  },
  {
   "cell_type": "code",
   "execution_count": 99,
   "metadata": {},
   "outputs": [
    {
     "data": {
      "text/plain": [
       "array([10.3125348])"
      ]
     },
     "execution_count": 99,
     "metadata": {},
     "output_type": "execute_result"
    }
   ],
   "source": [
    "dist_elev.Random()"
   ]
  },
  {
   "cell_type": "code",
   "execution_count": null,
   "metadata": {},
   "outputs": [],
   "source": []
  },
  {
   "cell_type": "code",
   "execution_count": null,
   "metadata": {},
   "outputs": [],
   "source": []
  }
 ],
 "metadata": {
  "kernelspec": {
   "display_name": "Python 3",
   "language": "python",
   "name": "python3"
  },
  "language_info": {
   "codemirror_mode": {
    "name": "ipython",
    "version": 3
   },
   "file_extension": ".py",
   "mimetype": "text/x-python",
   "name": "python",
   "nbconvert_exporter": "python",
   "pygments_lexer": "ipython3",
   "version": "3.7.0"
  }
 },
 "nbformat": 4,
 "nbformat_minor": 2
}
