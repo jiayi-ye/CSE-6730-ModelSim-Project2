{
 "cells": [
  {
   "cell_type": "markdown",
   "metadata": {},
   "source": [
    "## Cellular Automata Model for Traffic"
   ]
  },
  {
   "cell_type": "markdown",
   "metadata": {},
   "source": [
    "Layout of CA:\n",
    "\n",
    "- Each section of each lane is a cell\n",
    "\n",
    "Model assumptions:\n",
    "- .3 miles between 14th and Peachtree to 10th and Peachtree travelling southbound (google maps)\n",
    "- Average car is 16ft long (https://www.quora.com/What-is-the-average-length-of-a-car-in-feet)\n",
    "- typically space of a car between each car, so each cell is 16ft * 2 = 32 ft long\n",
    "- .3 miles = 1584 ft\n",
    "- 1584 ft / 32 ft = 49.5 cells, round up to 50\n",
    "- 2 lane road\n",
    "- road model is therefore (50 x 2)\n"
   ]
  },
  {
   "cell_type": "code",
   "execution_count": 1,
   "metadata": {},
   "outputs": [],
   "source": [
    "import numpy as np\n",
    "import matplotlib as mpl\n",
    "import matplotlib.pyplot as plt\n",
    "import random"
   ]
  },
  {
   "cell_type": "code",
   "execution_count": 2,
   "metadata": {},
   "outputs": [],
   "source": [
    "unoccupied = 0\n",
    "occupied = 1\n",
    "\n",
    "ROAD_SIZE = (50, 2)\n",
    "\n",
    "def init_road_vels():\n",
    "    R = np.zeros(ROAD_SIZE)\n",
    "    V = np.full(ROAD_SIZE, -1)\n",
    "    \n",
    "    return R, V\n",
    "\n",
    "def show_road(R, time_no):\n",
    "    args = {}\n",
    "    args['cmap'] = 'jet'\n",
    "    args['vmin'] = 0\n",
    "    args['vmax'] = 1\n",
    "    plt.figure(figsize=(8, 8))\n",
    "    plt.matshow(R, fignum=1, **args)\n",
    "    plt.xlabel('lanes')\n",
    "    plt.ylabel('Peachtree southbound')\n",
    "    # plt.colorbar()\n",
    "    \n",
    "    plt.title(\"Road at time {}\".format(time_no))\n",
    "    pass"
   ]
  },
  {
   "cell_type": "code",
   "execution_count": 3,
   "metadata": {},
   "outputs": [
    {
     "data": {
      "image/png": "[encoded data removed]",
      "text/plain": [
       "<Figure size 576x576 with 1 Axes>"
      ]
     },
     "metadata": {
      "needs_background": "light"
     },
     "output_type": "display_data"
    }
   ],
   "source": [
    "R = np.zeros(ROAD_SIZE)\n",
    "\n",
    "show_road(R, 0)"
   ]
  },
  {
   "cell_type": "markdown",
   "metadata": {},
   "source": [
    "### Velocities\n",
    "\n",
    "We'll keep track of velocities in a similarly shaped array. \n",
    "\n",
    "- A velocitiy of -1 means unoccupied\n",
    "- A velocity > -1 represents how many squares this car will travel in a timestep \n",
    "\n",
    "\n",
    "We'll use timesteps $t$ = 1 sec. For a car going 50mph = 73.33fps = 2.3 cells / t. Since we need integers we'll round this down to 2 cells / t (~43.6 mph)"
   ]
  },
  {
   "cell_type": "code",
   "execution_count": 4,
   "metadata": {},
   "outputs": [],
   "source": [
    "V = np.full(ROAD_SIZE, -1)"
   ]
  },
  {
   "cell_type": "markdown",
   "metadata": {},
   "source": [
    "### Movement \n",
    "\n",
    "We'll model movement stochastically. Each car has a probability of going straight, left or right.\n",
    "\n",
    "For now, these probabilites are as follows. They'll later be empirically validated with the NGSIM data.\n",
    "\n",
    "- P(straight) = .8\n",
    "- P(left) = .1\n",
    "- P(right) = .1"
   ]
  },
  {
   "cell_type": "code",
   "execution_count": 5,
   "metadata": {},
   "outputs": [],
   "source": [
    "def get_rand_dir():\n",
    "    r = random.random()\n",
    "    \n",
    "    # right\n",
    "    if r > .9:\n",
    "        return 1\n",
    "    \n",
    "    # left\n",
    "    if r > .8:\n",
    "        return -1\n",
    "\n",
    "    # straight\n",
    "    return 0"
   ]
  },
  {
   "cell_type": "code",
   "execution_count": 6,
   "metadata": {},
   "outputs": [],
   "source": [
    "def step(R, V):\n",
    "    R_new = np.zeros(R.shape)\n",
    "    V_new = np.full(V.shape, -1)\n",
    "    no_cars_leaving = 0\n",
    "    \n",
    "    cars = (R == 1)\n",
    "    \n",
    "    # go backwards since cars moving forward\n",
    "    for i in range(R.shape[0] -1, -1, -1):\n",
    "        for j in range(R.shape[1]):    \n",
    "            if cars[i, j]:\n",
    "                # print(\"there's a car in {}, {}\".format(i, j))\n",
    "                d = get_rand_dir()\n",
    "                \n",
    "                new_lane = j + d\n",
    "                \n",
    "                # don't actually change lane if on edge\n",
    "                if new_lane > 1 or new_lane < 0:\n",
    "                    new_lane -= d\n",
    "                \n",
    "                new_block = i + V[i, j]\n",
    "                \n",
    "                if new_block >= R.shape[0]:\n",
    "                    print('Car left road')\n",
    "                    no_cars_leaving += 1\n",
    "                    new_block = None\n",
    "                else:\n",
    "                    # make sure not occupied\n",
    "                    while R_new[new_block, new_lane] and new_block > i:\n",
    "                        new_block -= 1\n",
    "                \n",
    "                # couldnt move\n",
    "                if new_block == i:\n",
    "                    new_block = i\n",
    "                    new_lane = j\n",
    "                \n",
    "                if new_block:\n",
    "                    R_new[new_block, new_lane] = 1\n",
    "                    V_new[new_block, new_lane] = V[i, j]\n",
    "        \n",
    "    return R_new, V_new, no_cars_leaving\n",
    "    "
   ]
  },
  {
   "cell_type": "code",
   "execution_count": 11,
   "metadata": {
    "scrolled": true
   },
   "outputs": [],
   "source": [
    "R, V = init_road_vels()\n",
    "R[0, 0] = 1\n",
    "V[0, 0] = 1"
   ]
  },
  {
   "cell_type": "markdown",
   "metadata": {},
   "source": [
    "### Run basic sim"
   ]
  },
  {
   "cell_type": "code",
   "execution_count": 7,
   "metadata": {},
   "outputs": [],
   "source": [
    "R, V = init_road_vels()\n",
    "R[0, 0] = 1\n",
    "R[0, 1] = 1\n",
    "V[0, 0] = 2\n",
    "V[0, 1] = 2\n"
   ]
  },
  {
   "cell_type": "code",
   "execution_count": 8,
   "metadata": {},
   "outputs": [
    {
     "data": {
      "image/png": "[encoded data removed]",
      "text/plain": [
       "<Figure size 576x576 with 1 Axes>"
      ]
     },
     "metadata": {
      "needs_background": "light"
     },
     "output_type": "display_data"
    }
   ],
   "source": [
    "R, V, _ = step(R, V)\n",
    "show_road(R, 1)"
   ]
  },
  {
   "cell_type": "code",
   "execution_count": null,
   "metadata": {},
   "outputs": [],
   "source": []
  },
  {
   "cell_type": "code",
   "execution_count": 11,
   "metadata": {},
   "outputs": [],
   "source": [
    "def run_sim():\n",
    "    T_MAX = 100\n",
    "    R, V = init_road_vels()\n",
    "    R[0, 0] = 1\n",
    "    R[0, 1] = 1\n",
    "    V[0, 0] = 2\n",
    "    V[0, 1] = 2\n",
    "    times = []\n",
    "    for t in range(T_MAX):\n",
    "        num = 0\n",
    "        R, V, num = step(R, V)\n",
    "        \n",
    "        if num > 0:\n",
    "            l = [t] * num\n",
    "            times.extend(l)\n",
    "    \n",
    "    print(\"Cars exited road at times: \", times)\n",
    "    print(\"On average, took a car {} seconds to get through road.\".format(np.average(times)))\n",
    "\n",
    "    show_road(R, t)"
   ]
  },
  {
   "cell_type": "code",
   "execution_count": 16,
   "metadata": {},
   "outputs": [
    {
     "name": "stdout",
     "output_type": "stream",
     "text": [
      "Car left road\n",
      "Car left road\n",
      "Cars exited road at times:  [24, 25]\n",
      "On average, took a car 24.5 seconds to get through road.\n"
     ]
    },
    {
     "data": {
      "image/png": "[encoded data removed]",
      "text/plain": [
       "<Figure size 576x576 with 1 Axes>"
      ]
     },
     "metadata": {
      "needs_background": "light"
     },
     "output_type": "display_data"
    }
   ],
   "source": [
    "run_sim()"
   ]
  },
  {
   "cell_type": "markdown",
   "metadata": {},
   "source": [
    "## TODO's to expand model \n",
    "\n",
    "- Get distributions for car entering road rather than hard coded. This will allow more cars to populate road over time and different levels of traffic\n",
    "- map time step, $t$, to an actual time amount\n",
    "- map velocities to real speeds\n",
    "- run with different configurations (starting points with cars)\n",
    "- add stop lights and cars entering road"
   ]
  },
  {
   "cell_type": "code",
   "execution_count": null,
   "metadata": {},
   "outputs": [],
   "source": []
  }
 ],
 "metadata": {
  "kernelspec": {
   "display_name": "Python 3",
   "language": "python",
   "name": "python3"
  },
  "language_info": {
   "codemirror_mode": {
    "name": "ipython",
    "version": 3
   },
   "file_extension": ".py",
   "mimetype": "text/x-python",
   "name": "python",
   "nbconvert_exporter": "python",
   "pygments_lexer": "ipython3",
   "version": "3.7.0"
  }
 },
 "nbformat": 4,
 "nbformat_minor": 2
}
