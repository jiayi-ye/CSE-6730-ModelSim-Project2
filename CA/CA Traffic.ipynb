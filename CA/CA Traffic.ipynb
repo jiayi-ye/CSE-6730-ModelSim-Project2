{
 "cells": [
  {
   "cell_type": "markdown",
   "metadata": {},
   "source": [
    "## Cellular Automata Model for Traffic"
   ]
  },
  {
   "cell_type": "markdown",
   "metadata": {},
   "source": [
    "Layout of CA:\n",
    "\n",
    "- Each section of each lane is a cell\n",
    "\n",
    "Model assumptions:\n",
    "- .4 miles between 14th and Peachtree to 10th and Peachtree travelling southbound (google maps)\n",
    "- Average car is 16ft long (https://www.quora.com/What-is-the-average-length-of-a-car-in-feet)\n",
    "- typically space of a car between each car, so each cell is 16ft * 2 = 32 ft long\n",
    "- .4 miles = 2112 ft\n",
    "- 2112 ft / 32 ft = 66 cells\n",
    "- 2 lane road\n",
    "- road model is therefore (66 x 2)\n"
   ]
  },
  {
   "cell_type": "code",
   "execution_count": 1,
   "metadata": {},
   "outputs": [],
   "source": [
    "import numpy as np\n",
    "import matplotlib.pyplot as plot\n",
    "import random"
   ]
  },
  {
   "cell_type": "code",
   "execution_count": 2,
   "metadata": {},
   "outputs": [],
   "source": [
    "ROAD_SIZE = (66, 2)\n",
    "\n",
    "def init_road_vels():\n",
    "    R = np.zeros(ROAD_SIZE)\n",
    "    V = np.full(ROAD_SIZE, -1)\n",
    "    \n",
    "    return R, V\n",
    "\n",
    "def show_road(R, time_no):\n",
    "    args = {}\n",
    "    args['cmap'] = 'jet'\n",
    "    args['vmin'] = 0\n",
    "    args['vmax'] = 1\n",
    "    plot.figure(figsize=(8, 8))\n",
    "    plot.matshow(R, fignum=1, **args)\n",
    "    plot.xlabel('lanes')\n",
    "    plot.ylabel('Peachtree southbound')\n",
    "    # plt.colorbar()\n",
    "    \n",
    "    plot.title(\"Road at time {}\".format(time_no))\n",
    "    pass"
   ]
  },
  {
   "cell_type": "code",
   "execution_count": 3,
   "metadata": {},
   "outputs": [
    {
     "data": {
      "image/png": "[encoded data removed]",
      "text/plain": [
       "<Figure size 576x576 with 1 Axes>"
      ]
     },
     "metadata": {
      "needs_background": "light"
     },
     "output_type": "display_data"
    }
   ],
   "source": [
    "R = np.zeros(ROAD_SIZE)\n",
    "R[5, 0] = 12\n",
    "R[10, 0] = 20\n",
    "\n",
    "show_road(R, 0)"
   ]
  },
  {
   "cell_type": "markdown",
   "metadata": {},
   "source": [
    "### Velocities\n",
    "\n",
    "We'll keep track of velocities in a similarly shaped array. \n",
    "\n",
    "- A velocitiy of -1 means unoccupied\n",
    "- A velocity > -1 represents how many squares this car will travel in a timestep \n",
    "\n",
    "\n",
    "We'll use timesteps $t$ = 1 sec. For a car going 35mph = 51.3fps = 1.6 cells / t. Since we need integers we'll round this up to 2 cells / t (~43.6 mph)"
   ]
  },
  {
   "cell_type": "code",
   "execution_count": 4,
   "metadata": {},
   "outputs": [],
   "source": [
    "V = np.full(ROAD_SIZE, -1)"
   ]
  },
  {
   "cell_type": "markdown",
   "metadata": {},
   "source": [
    "### Movement \n",
    "\n",
    "We'll model movement stochastically. Each car has a probability of going straight, left or right.\n",
    "\n",
    "Using the south bound NGSIM data, lane changes have the following probabilities\n",
    "\n",
    "- P(straight):  0.9920035176341865\n",
    "- P(left):  0.003977789821357357\n",
    "- P(right):  0.004018692544456147\n",
    "\n",
    "To simplify this, I'll use the following values\n",
    "\n",
    "- P(straight):  0.992\n",
    "- P(left):  0.004\n",
    "- P(right):  0.004"
   ]
  },
  {
   "cell_type": "code",
   "execution_count": null,
   "metadata": {},
   "outputs": [],
   "source": []
  },
  {
   "cell_type": "code",
   "execution_count": 5,
   "metadata": {},
   "outputs": [],
   "source": [
    "def get_rand_dir():\n",
    "    r = random.random()\n",
    "    \n",
    "    # right\n",
    "    if r > .996:\n",
    "        return 1\n",
    "    \n",
    "    # left\n",
    "    if r > .992:\n",
    "        return -1\n",
    "\n",
    "    # straight\n",
    "    return 0"
   ]
  },
  {
   "cell_type": "code",
   "execution_count": 6,
   "metadata": {},
   "outputs": [],
   "source": [
    "def step(R, V, lights):\n",
    "    R_new = np.zeros(R.shape)\n",
    "    V_new = np.full(V.shape, -1)\n",
    "    cars_leaving = []\n",
    "    \n",
    "    cars = (R >= 1)\n",
    "    \n",
    "    # 10th, 11th, 12th, and 14th st\n",
    "    LIGHT_ROWS = [65, 49, 33, 0]\n",
    "    \n",
    "    # go backwards since cars moving forward\n",
    "    for i in range(R.shape[0] -1, -1, -1):\n",
    "        for j in range(R.shape[1]):    \n",
    "            if cars[i, j]:\n",
    "                car_id = R[i, j].astype(int)\n",
    "                # print(\"there's a car in {}, {} with id: {}\".format(i, j, car_id))\n",
    "                # print('Carid: ', car_id)\n",
    "                d = get_rand_dir()\n",
    "                \n",
    "                new_lane = j + d\n",
    "                \n",
    "                # don't actually change lane if on edge\n",
    "                if new_lane > 1 or new_lane < 0:\n",
    "                    new_lane -= d\n",
    "                \n",
    "                new_block = i + V[i, j]\n",
    "                \n",
    "                # check lights\n",
    "                for light_i, light_row in enumerate(LIGHT_ROWS):\n",
    "                    if not lights[light_i] and i <= light_row and new_block > light_row:\n",
    "                        # Want to cross intersection but light is 0\n",
    "                        new_block = light_row\n",
    "                        break\n",
    "                 \n",
    "                # See if car has left corridor\n",
    "                if new_block >= R.shape[0]:\n",
    "                    cars_leaving.append(car_id)\n",
    "                    new_block = None\n",
    "                else:\n",
    "                    # make sure not occupied, else dont move\n",
    "                    while R_new[new_block, new_lane] and new_block > i:\n",
    "                        new_block -= 1\n",
    "                \n",
    "                # couldnt move\n",
    "                if new_block == i:\n",
    "                    new_block = i\n",
    "                    new_lane = j\n",
    "                \n",
    "                if new_block:\n",
    "                    R_new[new_block, new_lane] = car_id\n",
    "                    V_new[new_block, new_lane] = V[i, j]\n",
    "        \n",
    "    return R_new, V_new, cars_leaving\n",
    "    "
   ]
  },
  {
   "cell_type": "code",
   "execution_count": 7,
   "metadata": {
    "scrolled": true
   },
   "outputs": [],
   "source": [
    "R, V = init_road_vels()\n",
    "R[0, 0] = 1\n",
    "V[0, 0] = 1"
   ]
  },
  {
   "cell_type": "markdown",
   "metadata": {},
   "source": [
    "### Run basic sim"
   ]
  },
  {
   "cell_type": "code",
   "execution_count": 8,
   "metadata": {},
   "outputs": [],
   "source": [
    "R, V = init_road_vels()\n",
    "R[0, 0] = 1\n",
    "R[0, 1] = 1\n",
    "V[0, 0] = 2\n",
    "V[0, 1] = 2\n"
   ]
  },
  {
   "cell_type": "code",
   "execution_count": 9,
   "metadata": {},
   "outputs": [
    {
     "data": {
      "image/png": "[encoded data removed]",
      "text/plain": [
       "<Figure size 576x576 with 1 Axes>"
      ]
     },
     "metadata": {
      "needs_background": "light"
     },
     "output_type": "display_data"
    }
   ],
   "source": [
    "R, V, _ = step(R, V, [1,1,1,1])\n",
    "show_road(R, 1)"
   ]
  },
  {
   "cell_type": "markdown",
   "metadata": {},
   "source": [
    "### Sample to get entering cars\n",
    "\n",
    "Sample from lognorm distribution to see when next car will enter simulation. Parameters generated empircally in `Background Distribution` notebook"
   ]
  },
  {
   "cell_type": "code",
   "execution_count": 10,
   "metadata": {},
   "outputs": [],
   "source": [
    "import scipy.stats as ss"
   ]
  },
  {
   "cell_type": "code",
   "execution_count": 11,
   "metadata": {},
   "outputs": [],
   "source": [
    "def get_next_entry_time_14th():\n",
    "    log_dist = ss.lognorm\n",
    "    rand = log_dist.rvs(1.123494632217069, loc=-0.1308024415404237, scale=2.222162369513514, size=1)[0]\n",
    "    return int(rand)\n",
    "\n",
    "def get_next_entry_time_11th():\n",
    "    log_dist = ss.lognorm\n",
    "    rand = log_dist.rvs(1.5234191072345973, loc=1.9716462121837928, scale=7.605110207945611, size=1)[0]\n",
    "    \n",
    "    return int(rand)"
   ]
  },
  {
   "cell_type": "code",
   "execution_count": 12,
   "metadata": {
    "scrolled": true
   },
   "outputs": [
    {
     "data": {
      "text/plain": [
       "0"
      ]
     },
     "execution_count": 12,
     "metadata": {},
     "output_type": "execute_result"
    }
   ],
   "source": [
    "get_next_entry_time_14th()"
   ]
  },
  {
   "cell_type": "markdown",
   "metadata": {},
   "source": [
    "### Test distributions\n"
   ]
  },
  {
   "cell_type": "code",
   "execution_count": 13,
   "metadata": {},
   "outputs": [],
   "source": [
    "arr_11 = []\n",
    "for _ in range(10):\n",
    "    num_cars_11 = 0\n",
    "    count_11 = 0\n",
    "\n",
    "    while count_11 < 900:\n",
    "        r = get_next_entry_time_11th()\n",
    "        count_11 += r\n",
    "        num_cars_11 += 1\n",
    "    arr_11.append(num_cars_11)"
   ]
  },
  {
   "cell_type": "code",
   "execution_count": 14,
   "metadata": {},
   "outputs": [
    {
     "data": {
      "text/plain": [
       "40.2"
      ]
     },
     "execution_count": 14,
     "metadata": {},
     "output_type": "execute_result"
    }
   ],
   "source": [
    "np.average(arr_11)"
   ]
  },
  {
   "cell_type": "code",
   "execution_count": 15,
   "metadata": {},
   "outputs": [],
   "source": [
    "arr_14 = []\n",
    "for _ in range(10):\n",
    "    num_cars_14 = 0\n",
    "    count_14 = 0\n",
    "\n",
    "    while count_14 < 900:\n",
    "        r = get_next_entry_time_14th()\n",
    "        count_14 += r\n",
    "        num_cars_14 += 1\n",
    "    arr_14.append(num_cars_14)"
   ]
  },
  {
   "cell_type": "code",
   "execution_count": 16,
   "metadata": {},
   "outputs": [
    {
     "data": {
      "text/plain": [
       "258.1"
      ]
     },
     "execution_count": 16,
     "metadata": {},
     "output_type": "execute_result"
    }
   ],
   "source": [
    "np.average(arr_14)"
   ]
  },
  {
   "cell_type": "code",
   "execution_count": 17,
   "metadata": {},
   "outputs": [],
   "source": [
    "# constant velocity of 2 blocks per time step\n",
    "def get_velo():\n",
    "    return 2"
   ]
  },
  {
   "cell_type": "markdown",
   "metadata": {},
   "source": [
    "### Traffic Lights\n",
    "\n",
    "Timing (rounded) and red / yellow combined.\n",
    "\n",
    "Peachtree and 10th southbound\n",
    "- ON: 34 sec\n",
    "- OFF: 53 sec\n",
    "\n",
    "Peachtree and 11th southbound\n",
    "- ON: 42 sec\n",
    "- OFF: 59 sec\n",
    "\n",
    "Peachtree and 12th southbound\n",
    "- ON: 61 sec\n",
    "- OFF: 39 sec\n",
    "\n",
    "Peachtree and 14th southbound\n",
    "- ON: 37 sec\n",
    "- OFF: 49 sec"
   ]
  },
  {
   "cell_type": "code",
   "execution_count": null,
   "metadata": {},
   "outputs": [],
   "source": []
  },
  {
   "cell_type": "code",
   "execution_count": 18,
   "metadata": {},
   "outputs": [],
   "source": [
    "def run_sim(T_MAX=100, print_stats=False, slow_traffic=False):\n",
    "    # constants\n",
    "    light_timing = [[53, 34], [59, 42], [53, 61], [49, 37]]\n",
    "    index_11th_right = (49, 0)\n",
    "    \n",
    "    # init state\n",
    "    R, V = init_road_vels()\n",
    "    next_entry_left_time = 0\n",
    "    next_entry_right_time = 0\n",
    "    next_11th_right_time = 0\n",
    "    times = []\n",
    "    times_entered = {}\n",
    "    id_c = 1\n",
    "    \n",
    "    # 10th, 11th, 12th, 14th\n",
    "    lights = [1,1,1,1]\n",
    "    light_counters = [light_timing[index][val] for index, val in enumerate(lights)]\n",
    "    \n",
    "    for t in range(T_MAX):\n",
    "         \n",
    "        # check lights and increment\n",
    "        for index, count_value in enumerate(light_counters):\n",
    "            if not count_value:\n",
    "                lights[index] = not lights[index]\n",
    "                light_counters[index] = light_timing[index][lights[index]]\n",
    "            else:\n",
    "                light_counters[index] -= 1\n",
    "        \n",
    "        # Enter left lane top\n",
    "        if not next_entry_left_time:\n",
    "            if not R[0, 0]:\n",
    "                R[0, 0] = id_c\n",
    "                times_entered[id_c] = t\n",
    "                \n",
    "                id_c += 1\n",
    "                V[0, 0] = get_velo()\n",
    "                next_entry_left_time = get_next_entry_time_14th()\n",
    "                if slow_traffic:\n",
    "                    next_entry_left_time *= 2\n",
    "        else:\n",
    "            next_entry_left_time -= 1\n",
    "            \n",
    "        # Enter right lane top\n",
    "        if not next_entry_right_time:\n",
    "            if not R[0, 1]:\n",
    "                R[0, 1] = id_c\n",
    "                times_entered[id_c] = t\n",
    "                \n",
    "                id_c += 1\n",
    "                V[0, 1] = get_velo()\n",
    "                next_entry_right_time = get_next_entry_time_14th()\n",
    "                if slow_traffic:\n",
    "                    next_entry_right_time *= 2\n",
    "        else:\n",
    "            next_entry_right_time -= 1\n",
    "        \n",
    "        #Enter 11th turn right\n",
    "        if not next_11th_right_time:\n",
    "            if not R[index_11th_right]:\n",
    "                R[index_11th_right] = id_c\n",
    "                \n",
    "                # don't add to times_entered since dont want to track time\n",
    "                id_c += 1\n",
    "                V[index_11th_right] = get_velo()\n",
    "                next_11th_right_time = get_next_entry_time_11th()\n",
    "                if slow_traffic:\n",
    "                    next_11th_right_time *= 2\n",
    "        else:\n",
    "            next_11th_right_time -= 1\n",
    "        \n",
    "        R, V, exited_ids = step(R, V, lights)\n",
    "        \n",
    "        for id_exit in exited_ids:\n",
    "            if id_exit in times_entered:\n",
    "                elapsed_time = t - times_entered[id_exit]\n",
    "                del times_entered[id_exit]\n",
    "                times.append(elapsed_time)\n",
    "    \n",
    "    av_time = np.average(times)\n",
    "    num_cars = len(times)\n",
    "    \n",
    "    if print_stats:\n",
    "        print(\"{} cars passed through.\".format(num_cars))\n",
    "        print(\"On average, took a car {} seconds to get through road.\".format(av_time))\n",
    "        show_road(R, t)\n",
    "    \n",
    "    return num_cars, av_time"
   ]
  },
  {
   "cell_type": "code",
   "execution_count": 19,
   "metadata": {},
   "outputs": [
    {
     "name": "stdout",
     "output_type": "stream",
     "text": [
      "161 cars passed through.\n",
      "On average, took a car 77.80745341614907 seconds to get through road.\n"
     ]
    },
    {
     "data": {
      "text/plain": [
       "(161, 77.80745341614907)"
      ]
     },
     "execution_count": 19,
     "metadata": {},
     "output_type": "execute_result"
    },
    {
     "data": {
      "image/png": "[encoded data removed]",
      "text/plain": [
       "<Figure size 576x576 with 1 Axes>"
      ]
     },
     "metadata": {
      "needs_background": "light"
     },
     "output_type": "display_data"
    }
   ],
   "source": [
    "run_sim(900, print_stats=True)"
   ]
  },
  {
   "cell_type": "markdown",
   "metadata": {
    "scrolled": true
   },
   "source": [
    "### Run Monte Carlo Simulations"
   ]
  },
  {
   "cell_type": "code",
   "execution_count": 20,
   "metadata": {},
   "outputs": [],
   "source": [
    "def run_monte_carlo_sims(num_trials_p=20, num_iterations=900, slow_traffic=False):\n",
    "    \n",
    "    times = []\n",
    "    num_cars = []\n",
    "    for _ in range(num_trials_p):\n",
    "        run_cars, run_time = run_sim(num_iterations, slow_traffic=slow_traffic)\n",
    "        times.append(run_time)\n",
    "        num_cars.append(run_cars)\n",
    "    \n",
    "    print('Across {} trials got following stats:'.format(num_trials_p))\n",
    "    print('\\t Time: {}'.format(np.average(times)))\n",
    "    print('\\t # Cars: {}'.format(np.average(num_cars)))\n",
    "    return times, num_cars"
   ]
  },
  {
   "cell_type": "code",
   "execution_count": 21,
   "metadata": {},
   "outputs": [
    {
     "name": "stdout",
     "output_type": "stream",
     "text": [
      "Across 50 trials got following stats:\n",
      "\t Time: 81.17700825423596\n",
      "\t # Cars: 170.4\n",
      "Across 50 trials got following stats:\n",
      "\t Time: 83.93576885006098\n",
      "\t # Cars: 339.02\n",
      "Across 50 trials got following stats:\n",
      "\t Time: 83.57919561189024\n",
      "\t # Cars: 660.36\n",
      "Across 50 trials got following stats:\n",
      "\t Time: 83.24719905656913\n",
      "\t # Cars: 1698.54\n"
     ]
    }
   ],
   "source": [
    "NUM_TRIALS = 50\n",
    "\n",
    "iterations_l = [900, 1800, 3600, 9000]\n",
    "\n",
    "t_mat = []\n",
    "c_mat = []\n",
    "for iter_length in iterations_l:\n",
    "    mc_t, mc_c = run_monte_carlo_sims(NUM_TRIALS, num_iterations=iter_length)\n",
    "    t_mat.append(mc_t)\n",
    "    c_mat.append(mc_c)\n"
   ]
  },
  {
   "cell_type": "code",
   "execution_count": 22,
   "metadata": {},
   "outputs": [
    {
     "data": {
      "image/png": "[encoded data removed]",
      "text/plain": [
       "<Figure size 432x288 with 1 Axes>"
      ]
     },
     "metadata": {
      "needs_background": "light"
     },
     "output_type": "display_data"
    }
   ],
   "source": [
    "# Plot time\n",
    "plot.xlabel('Run #')\n",
    "plot.ylabel('Av Time')\n",
    "plot.title('Average Time of CA MC Sim')\n",
    "\n",
    "lab = []\n",
    "\n",
    "for v, itr_l in zip(t_mat, iterations_l):\n",
    "    l, = plot.plot(range(NUM_TRIALS), v, label=\"Timesteps: {}, Avg: {:.2f}\".format(itr_l, np.average(v)))\n",
    "    lab.append(l)\n",
    "    \n",
    "plot.legend(handles=lab)\n",
    "plot.ylim(bottom=0, top=100)\n",
    "plot.show()"
   ]
  },
  {
   "cell_type": "code",
   "execution_count": 23,
   "metadata": {},
   "outputs": [
    {
     "data": {
      "image/png": "[encoded data removed]",
      "text/plain": [
       "<Figure size 432x288 with 1 Axes>"
      ]
     },
     "metadata": {
      "needs_background": "light"
     },
     "output_type": "display_data"
    }
   ],
   "source": [
    "# Plot Cars\n",
    "\n",
    "plot.xlabel('Run #')\n",
    "plot.ylabel('Av Number Cars')\n",
    "plot.title('Average Cars of MC Sim')\n",
    "plot.plot(range(NUM_TRIALS), mc_c)\n",
    "plot.ylim(bottom=0, top=100)\n",
    "plot.show()"
   ]
  },
  {
   "cell_type": "code",
   "execution_count": 24,
   "metadata": {},
   "outputs": [
    {
     "name": "stdout",
     "output_type": "stream",
     "text": [
      "Across 50 trials got following stats:\n",
      "\t Time: 80.7737081030872\n",
      "\t # Cars: 169.2\n",
      "Across 100 trials got following stats:\n",
      "\t Time: 81.51583691790205\n",
      "\t # Cars: 169.09\n",
      "Across 1000 trials got following stats:\n",
      "\t Time: 81.26145536745933\n",
      "\t # Cars: 168.018\n"
     ]
    }
   ],
   "source": [
    "\n",
    "iterations_l = [50, 100, 1000]\n",
    "\n",
    "t_mat = []\n",
    "c_mat = []\n",
    "for iter_length in iterations_l:\n",
    "    mc_t, mc_c = run_monte_carlo_sims(num_trials_p=iter_length)\n",
    "    t_mat.append(mc_t)\n",
    "    c_mat.append(mc_c)\n",
    "\n"
   ]
  },
  {
   "cell_type": "code",
   "execution_count": 25,
   "metadata": {},
   "outputs": [],
   "source": [
    "t_mat_avg = [np.average(x) for x in t_mat]"
   ]
  },
  {
   "cell_type": "code",
   "execution_count": 26,
   "metadata": {},
   "outputs": [
    {
     "data": {
      "text/plain": [
       "[80.7737081030872, 81.51583691790205, 81.26145536745933]"
      ]
     },
     "execution_count": 26,
     "metadata": {},
     "output_type": "execute_result"
    }
   ],
   "source": [
    "t_mat_avg"
   ]
  },
  {
   "cell_type": "code",
   "execution_count": 27,
   "metadata": {},
   "outputs": [
    {
     "data": {
      "image/png": "[encoded data removed]",
      "text/plain": [
       "<Figure size 432x288 with 1 Axes>"
      ]
     },
     "metadata": {
      "needs_background": "light"
     },
     "output_type": "display_data"
    }
   ],
   "source": [
    "plot.xlabel('# MC Runs')\n",
    "plot.ylabel('Av Time')\n",
    "plot.title('Average Time of CA MC Sim')\n",
    "\n",
    "plot.bar(range(len(t_mat_avg)), t_mat_avg , align='center', alpha=0.5)\n",
    "plot.xticks(range(len(t_mat_avg)), iterations_l)\n",
    " \n",
    "plot.show()"
   ]
  },
  {
   "cell_type": "code",
   "execution_count": 28,
   "metadata": {},
   "outputs": [
    {
     "name": "stdout",
     "output_type": "stream",
     "text": [
      "Across 100 trials got following stats:\n",
      "\t Time: 81.51383995800214\n",
      "\t # Cars: 170.04\n"
     ]
    }
   ],
   "source": [
    "mc_times_new, mc_num_cars_new = run_monte_carlo_sims(num_trials_p=100, num_iterations=900)"
   ]
  },
  {
   "cell_type": "code",
   "execution_count": 29,
   "metadata": {},
   "outputs": [
    {
     "data": {
      "text/plain": [
       "100"
      ]
     },
     "execution_count": 29,
     "metadata": {},
     "output_type": "execute_result"
    }
   ],
   "source": [
    "len(mc_times_new)"
   ]
  },
  {
   "cell_type": "code",
   "execution_count": 30,
   "metadata": {
    "scrolled": true
   },
   "outputs": [
    {
     "data": {
      "text/plain": [
       "<matplotlib.axes._subplots.AxesSubplot at 0x11d98db00>"
      ]
     },
     "execution_count": 30,
     "metadata": {},
     "output_type": "execute_result"
    },
    {
     "data": {
      "image/png": "[encoded data removed]",
      "text/plain": [
       "<Figure size 432x288 with 1 Axes>"
      ]
     },
     "metadata": {
      "needs_background": "light"
     },
     "output_type": "display_data"
    }
   ],
   "source": [
    "import pandas as pd\n",
    "times = pd.Series(mc_times_new)\n",
    "times.plot.hist(grid=False, bins=20, rwidth=0.9, color='#607c8e',title='MC Results, {} runs'.format(times.shape[0]))"
   ]
  },
  {
   "cell_type": "code",
   "execution_count": 31,
   "metadata": {
    "scrolled": false
   },
   "outputs": [
    {
     "data": {
      "text/plain": [
       "<matplotlib.lines.Line2D at 0x11db24b00>"
      ]
     },
     "execution_count": 31,
     "metadata": {},
     "output_type": "execute_result"
    },
    {
     "data": {
      "image/png": "[encoded data removed]",
      "text/plain": [
       "<Figure size 432x288 with 1 Axes>"
      ]
     },
     "metadata": {
      "needs_background": "light"
     },
     "output_type": "display_data"
    }
   ],
   "source": [
    "plot.xlabel('Av Time')\n",
    "plot.ylabel('Frequency')\n",
    "plot.title('MC Results, {} runs'.format(times.shape[0]))\n",
    "plot.hist(mc_times_new, bins=20, rwidth=0.9, color='#607c8e')\n",
    "# lower bound, mean, upper bound CI\n",
    "plot.axvline(x=80.71542368452617, linestyle=\"dashed\", color=\"grey\")\n",
    "plot.axvline(x=81.44053808126203, linestyle=\"solid\", color=\"orange\")\n",
    "plot.axvline(x=82.1656524779979, linestyle=\"dashed\", color=\"grey\")\n"
   ]
  },
  {
   "cell_type": "markdown",
   "metadata": {},
   "source": [
    "#### Compare fast and slow"
   ]
  },
  {
   "cell_type": "code",
   "execution_count": 32,
   "metadata": {},
   "outputs": [
    {
     "name": "stdout",
     "output_type": "stream",
     "text": [
      "Across 100 trials got following stats:\n",
      "\t Time: 81.69866021168312\n",
      "\t # Cars: 171.24\n",
      "Across 100 trials got following stats:\n",
      "\t Time: 79.0197075695602\n",
      "\t # Cars: 96.5\n"
     ]
    }
   ],
   "source": [
    "t_normal, _ = run_monte_carlo_sims(num_trials_p=100, num_iterations=900, slow_traffic=False)\n",
    "t_slow, _ = run_monte_carlo_sims(num_trials_p=100, num_iterations=900, slow_traffic=True)"
   ]
  },
  {
   "cell_type": "code",
   "execution_count": 33,
   "metadata": {},
   "outputs": [
    {
     "data": {
      "text/plain": [
       "([<matplotlib.axis.XTick at 0x11db85470>,\n",
       "  <matplotlib.axis.XTick at 0x11db84cf8>],\n",
       " <a list of 2 Text xticklabel objects>)"
      ]
     },
     "execution_count": 33,
     "metadata": {},
     "output_type": "execute_result"
    },
    {
     "data": {
      "image/png": "[encoded data removed]",
      "text/plain": [
       "<Figure size 432x288 with 1 Axes>"
      ]
     },
     "metadata": {
      "needs_background": "light"
     },
     "output_type": "display_data"
    }
   ],
   "source": [
    "plot.xlabel('Traffic Level')\n",
    "plot.ylabel('Av Time')\n",
    "plot.title('CA: High vs Low Traffic')\n",
    "\n",
    "plot.boxplot([t_normal, t_slow])\n",
    "plot.xticks([1, 2], ['High\\nAvg:{:.2f}'.format(np.average(t_normal)), 'Low\\nAvg:{:.2f}'.format(np.average(t_slow))])\n"
   ]
  },
  {
   "cell_type": "code",
   "execution_count": 34,
   "metadata": {
    "scrolled": true
   },
   "outputs": [
    {
     "data": {
      "text/plain": [
       "[85.94736842105263,\n",
       " 83.48387096774194,\n",
       " 81.01190476190476,\n",
       " 86.20987654320987,\n",
       " 84.69642857142857,\n",
       " 80.23497267759562,\n",
       " 76.98235294117647,\n",
       " 86.25625,\n",
       " 76.62585034013605,\n",
       " 82.55737704918033,\n",
       " 84.39080459770115,\n",
       " 84.23926380368098,\n",
       " 86.12820512820512,\n",
       " 80.20645161290322,\n",
       " 80.0952380952381,\n",
       " 82.14189189189189,\n",
       " 80.88023952095809,\n",
       " 84.0,\n",
       " 84.83435582822086,\n",
       " 82.77707006369427,\n",
       " 78.26415094339623,\n",
       " 86.05780346820809,\n",
       " 78.89808917197452,\n",
       " 80.92817679558011,\n",
       " 81.18238993710692,\n",
       " 93.53448275862068,\n",
       " 80.97241379310344,\n",
       " 83.42857142857143,\n",
       " 73.59166666666667,\n",
       " 83.21264367816092,\n",
       " 79.57692307692308,\n",
       " 82.42857142857143,\n",
       " 91.19540229885058,\n",
       " 79.19553072625699,\n",
       " 82.15151515151516,\n",
       " 82.18181818181819,\n",
       " 79.86764705882354,\n",
       " 83.49738219895288,\n",
       " 76.81045751633987,\n",
       " 82.64245810055866,\n",
       " 80.91764705882353,\n",
       " 77.9578313253012,\n",
       " 79.58441558441558,\n",
       " 83.4054054054054,\n",
       " 80.83333333333333,\n",
       " 78.26351351351352,\n",
       " 79.66489361702128,\n",
       " 78.16091954022988,\n",
       " 78.98882681564245,\n",
       " 85.81142857142858,\n",
       " 78.64444444444445,\n",
       " 79.84210526315789,\n",
       " 81.45762711864407,\n",
       " 83.38983050847457,\n",
       " 80.6441717791411,\n",
       " 83.20967741935483,\n",
       " 85.81967213114754,\n",
       " 88.04046242774567,\n",
       " 85.23333333333333,\n",
       " 82.23728813559322,\n",
       " 79.26315789473684,\n",
       " 82.52352941176471,\n",
       " 83.18435754189944,\n",
       " 80.17816091954023,\n",
       " 78.18543046357615,\n",
       " 79.10975609756098,\n",
       " 83.78536585365853,\n",
       " 79.50714285714285,\n",
       " 77.14450867052022,\n",
       " 81.73291925465838,\n",
       " 84.8015873015873,\n",
       " 82.75,\n",
       " 79.26395939086295,\n",
       " 80.7741935483871,\n",
       " 78.34355828220859,\n",
       " 80.28333333333333,\n",
       " 82.62091503267973,\n",
       " 80.96666666666667,\n",
       " 80.59880239520957,\n",
       " 77.46875,\n",
       " 79.90259740259741,\n",
       " 83.37288135593221,\n",
       " 79.19101123595506,\n",
       " 76.9186046511628,\n",
       " 81.53571428571429,\n",
       " 82.02547770700637,\n",
       " 79.1951219512195,\n",
       " 82.75897435897436,\n",
       " 80.55621301775147,\n",
       " 83.54395604395604,\n",
       " 78.22368421052632,\n",
       " 80.66459627329192,\n",
       " 79.3,\n",
       " 81.34065934065934,\n",
       " 77.75418994413408,\n",
       " 82.08205128205128,\n",
       " 83.03755868544602,\n",
       " 80.85635359116021,\n",
       " 81.92265193370166,\n",
       " 79.2909090909091]"
      ]
     },
     "execution_count": 34,
     "metadata": {},
     "output_type": "execute_result"
    }
   ],
   "source": [
    "mc_times_new"
   ]
  },
  {
   "cell_type": "code",
   "execution_count": 35,
   "metadata": {},
   "outputs": [],
   "source": [
    "def mean_confidence_interval(data, confidence=0.99):\n",
    "    a = 1.0 * np.array(data)\n",
    "    n = len(a)\n",
    "    m, se = np.mean(a), ss.sem(a)\n",
    "    h = se * ss.t.ppf((1 + confidence) / 2., n-1)\n",
    "    return m, m-h, m+h\n"
   ]
  },
  {
   "cell_type": "code",
   "execution_count": null,
   "metadata": {},
   "outputs": [],
   "source": []
  },
  {
   "cell_type": "code",
   "execution_count": 36,
   "metadata": {},
   "outputs": [
    {
     "data": {
      "text/plain": [
       "(81.51383995800214, 80.71089357269224, 82.31678634331203)"
      ]
     },
     "execution_count": 36,
     "metadata": {},
     "output_type": "execute_result"
    }
   ],
   "source": [
    "mean_confidence_interval(mc_times_new)"
   ]
  },
  {
   "cell_type": "code",
   "execution_count": 37,
   "metadata": {},
   "outputs": [
    {
     "name": "stdout",
     "output_type": "stream",
     "text": [
      "High ttest1_samp_res Ttest_1sampResult(statistic=4.648313641700826e-14, pvalue=0.999999999999963)\n",
      "High mean wait 81.51383995800212\n"
     ]
    }
   ],
   "source": [
    "# Wait times for high traffic\n",
    "highWaits = mc_times_new\n",
    "high_meanWait = sum(highWaits) / float(len(highWaits))\n",
    "ttest1_samp_res = ss.ttest_1samp(a=highWaits, popmean=high_meanWait)\n",
    "print(\"High ttest1_samp_res\", ttest1_samp_res)\n",
    "print(\"High mean wait\", high_meanWait)"
   ]
  },
  {
   "cell_type": "code",
   "execution_count": null,
   "metadata": {},
   "outputs": [],
   "source": []
  }
 ],
 "metadata": {
  "kernelspec": {
   "display_name": "Python 3",
   "language": "python",
   "name": "python3"
  },
  "language_info": {
   "codemirror_mode": {
    "name": "ipython",
    "version": 3
   },
   "file_extension": ".py",
   "mimetype": "text/x-python",
   "name": "python",
   "nbconvert_exporter": "python",
   "pygments_lexer": "ipython3",
   "version": "3.7.0"
  }
 },
 "nbformat": 4,
 "nbformat_minor": 2
}
